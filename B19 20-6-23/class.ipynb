{
 "cells": [
  {
   "cell_type": "code",
   "execution_count": 47,
   "id": "103e6a20",
   "metadata": {},
   "outputs": [],
   "source": [
    "class Student:\n",
    "    #Ham Khoi tao\n",
    "    def __init__(self, name, gender, age, country):\n",
    "        '''Ham khoi tao cua class dung de khoi tao cac gia tri cua cac thuoc tinh'''\n",
    "        self.name = name\n",
    "        self.gender = gender\n",
    "        self.age = age\n",
    "        self.country = country\n",
    "    def inputInfo(self):\n",
    "        self.name = input(\"Enter fullname: \")\n",
    "        self.gender = bool(input(\"Enter gender 0/1: \"))\n",
    "        self.age = input(\"Enter age: \")\n",
    "        self.country = input(\"Enter country: \")\n",
    "    def showInfo(self):\n",
    "        print(\"Họ và tên: \", self.name)\n",
    "        print(\"Giới tính: \", \"Nữ\" if self.gender == 0 else \"Nam\")        \n",
    "        print(\"Tuổi: \", self.age)        \n",
    "        print(\"Quốc gia: \", self.country)       \n",
    "    def study(self):\n",
    "        print(\"Học và làm bài\")\n",
    "    def play(self):\n",
    "        print(\"Chơi và giải trí\")"
   ]
  },
  {
   "cell_type": "code",
   "execution_count": 44,
   "id": "cb43a667",
   "metadata": {},
   "outputs": [
    {
     "name": "stdout",
     "output_type": "stream",
     "text": [
      "Họ và tên:  F\n",
      "Giới tính:  Nam\n",
      "Tuổi:  30\n",
      "Quốc gia:  Laos\n"
     ]
    }
   ],
   "source": [
    "student4 = Student(\"F\", 1, 30, \"Laos\")\n",
    "student4.showInfo()"
   ]
  },
  {
   "cell_type": "code",
   "execution_count": 30,
   "id": "131074d7",
   "metadata": {
    "scrolled": true
   },
   "outputs": [
    {
     "name": "stdout",
     "output_type": "stream",
     "text": [
      "Họ và tên:  A\n",
      "Giới tính:  Nữ\n",
      "Tuổi:  32\n",
      "Quốc gia:  Vietnam\n"
     ]
    }
   ],
   "source": [
    "student1= Student()\n",
    "student1.showInfo()"
   ]
  },
  {
   "cell_type": "code",
   "execution_count": 37,
   "id": "e0c0675c",
   "metadata": {
    "scrolled": true
   },
   "outputs": [
    {
     "name": "stdout",
     "output_type": "stream",
     "text": [
      "Họ và tên:  B\n",
      "Giới tính:  Nam\n",
      "Tuổi:  22\n",
      "Quốc gia:  Taiwan\n"
     ]
    }
   ],
   "source": [
    "student2 = Student()\n",
    "student2.name = \"B\"\n",
    "student2.gender = 1\n",
    "student2.age = 22\n",
    "student2.country = \"Taiwan\"\n",
    "student2.showInfo()"
   ]
  },
  {
   "cell_type": "code",
   "execution_count": 39,
   "id": "82ba4eac",
   "metadata": {
    "scrolled": true
   },
   "outputs": [
    {
     "name": "stdout",
     "output_type": "stream",
     "text": [
      "Enter fullname: C\n",
      "Enter gender 0/1: 1\n",
      "Enter age: 24\n",
      "Enter country: Japan\n",
      "Họ và tên:  C\n",
      "Giới tính:  Nam\n",
      "Tuổi:  24\n",
      "Quốc gia:  Japan\n"
     ]
    }
   ],
   "source": [
    "student3 = Student()\n",
    "student3.inputInfo()\n",
    "student3.showInfo()"
   ]
  },
  {
   "cell_type": "markdown",
   "id": "892bdbc5",
   "metadata": {},
   "source": [
    "## Dinh nghia tam giac gom do dai 3 canh a, b, c. phuong thuoc kiem tra a, b, c co phai canh cua tam giac khong. chu vi dien tich"
   ]
  },
  {
   "cell_type": "code",
   "execution_count": 1,
   "id": "71a1bed0",
   "metadata": {},
   "outputs": [],
   "source": [
    "class Triangle:\n",
    "    def __init__(self, a, b, c):\n",
    "        self.a = a\n",
    "        self.b = b       \n",
    "        self.c = c      \n",
    "    #Kiem tra 3 canh nhap vao co phai la tam giac\n",
    "    def check_triangle(self):\n",
    "        if self.a > 0 and self.b > 0 and self.c > 0:\n",
    "            if (self.a + self.b > self.c) and (self.a + self.c > self.b) and (self.b + self.c > self.a):\n",
    "               return True\n",
    "            else:\n",
    "                return False\n",
    "        else:\n",
    "            return None\n",
    "    #tinh chu vi\n",
    "    def tinh_cv(self):\n",
    "        if self.check_triangle():\n",
    "            return self.a + self.b + self.c\n",
    "        else:\n",
    "           return None\n",
    "    #tinh dien tich\n",
    "    def tinh_dt(self):\n",
    "        if self.check_triangle():\n",
    "            p = (self.a + self.b + self.c)/2\n",
    "            h = 2*(((p*(p-self.a)*(p-self.b)*(p-self.c))**0.5)/self.a)\n",
    "            return self.a*h/2\n",
    "        else:\n",
    "            return None\n",
    "    def show(self):\n",
    "        print(f\"{self.a}, {self.b}, {self.c}\")\n",
    "\n",
    "            "
   ]
  },
  {
   "cell_type": "code",
   "execution_count": 44,
   "id": "75f0e1d9",
   "metadata": {},
   "outputs": [
    {
     "name": "stdout",
     "output_type": "stream",
     "text": [
      "12\n",
      "6.0\n"
     ]
    }
   ],
   "source": [
    "triangle1 = Triangle(3, 4, 5)\n",
    "triangle1.check_triangle()\n",
    "print(triangle1.tinh_cv())\n",
    "print(triangle1.tinh_dt())\n",
    "\n"
   ]
  },
  {
   "cell_type": "markdown",
   "id": "1d1a8a2f",
   "metadata": {},
   "source": [
    "## Sinh ra ngau nhien 100 tam giac. tim tam giac co dien tich, chu vi lon nhat"
   ]
  },
  {
   "cell_type": "code",
   "execution_count": 11,
   "id": "8a6e2d3a",
   "metadata": {},
   "outputs": [
    {
     "name": "stdout",
     "output_type": "stream",
     "text": [
      "Co 100 tam giac\n",
      "Chu vi = 160\n",
      "Chu vi = 146\n",
      "Chu vi = 222\n",
      "Chu vi = 170\n",
      "Chu vi = 145\n",
      "Chu vi = 189\n",
      "Chu vi = 221\n",
      "Chu vi = 178\n",
      "Chu vi = 64\n",
      "Chu vi = 172\n",
      "Chu vi = 177\n",
      "Chu vi = 103\n",
      "Chu vi = 181\n",
      "Chu vi = 153\n",
      "Chu vi = 194\n",
      "Chu vi = 251\n",
      "Chu vi = 199\n",
      "Chu vi = 206\n",
      "Chu vi = 190\n",
      "Chu vi = 189\n",
      "Chu vi = 129\n",
      "Chu vi = 171\n",
      "Chu vi = 210\n",
      "Chu vi = 118\n",
      "Chu vi = 128\n",
      "Chu vi = 151\n",
      "Chu vi = 80\n",
      "Chu vi = 175\n",
      "Chu vi = 166\n",
      "Chu vi = 135\n",
      "Chu vi = 204\n",
      "Chu vi = 165\n",
      "Chu vi = 216\n",
      "Chu vi = 129\n",
      "Chu vi = 227\n",
      "Chu vi = 187\n",
      "Chu vi = 168\n",
      "Chu vi = 134\n",
      "Chu vi = 177\n",
      "Chu vi = 120\n",
      "Chu vi = 220\n",
      "Chu vi = 156\n",
      "Chu vi = 182\n",
      "Chu vi = 177\n",
      "Chu vi = 142\n",
      "Chu vi = 219\n",
      "Chu vi = 193\n",
      "Chu vi = 136\n",
      "Chu vi = 187\n",
      "Chu vi = 185\n",
      "Chu vi = 106\n",
      "Chu vi = 223\n",
      "Chu vi = 147\n",
      "Chu vi = 197\n",
      "Chu vi = 88\n",
      "Chu vi = 246\n",
      "Chu vi = 193\n",
      "Chu vi = 37\n",
      "Chu vi = 173\n",
      "Chu vi = 185\n",
      "Chu vi = 194\n",
      "Chu vi = 213\n",
      "Chu vi = 208\n",
      "Chu vi = 231\n",
      "Chu vi = 227\n",
      "Chu vi = 266\n",
      "Chu vi = 146\n",
      "Chu vi = 153\n",
      "Chu vi = 187\n",
      "Chu vi = 205\n",
      "Chu vi = 198\n",
      "Chu vi = 137\n",
      "Chu vi = 190\n",
      "Chu vi = 191\n",
      "Chu vi = 182\n",
      "Chu vi = 195\n",
      "Chu vi = 218\n",
      "Chu vi = 177\n",
      "Chu vi = 159\n",
      "Chu vi = 195\n",
      "Chu vi = 173\n",
      "Chu vi = 187\n",
      "Chu vi = 177\n",
      "Chu vi = 194\n",
      "Chu vi = 270\n",
      "Chu vi = 155\n",
      "Chu vi = 231\n",
      "Chu vi = 179\n",
      "Chu vi = 214\n",
      "Chu vi = 132\n",
      "Chu vi = 91\n",
      "Chu vi = 265\n",
      "Chu vi = 99\n",
      "Chu vi = 159\n",
      "Chu vi = 108\n",
      "Chu vi = 171\n",
      "Chu vi = 94\n",
      "Chu vi = 233\n",
      "Chu vi = 107\n",
      "Chu vi = 207\n"
     ]
    }
   ],
   "source": [
    "import random\n",
    "mylist=[]\n",
    "count = 0\n",
    "while count < 100:\n",
    "    a = random.randint(1, 100)\n",
    "    b = random.randint(1, 100) \n",
    "    c = random.randint(1, 100) \n",
    "    tg = Triangle(a, b, c)\n",
    "    if tg.check_triangle():\n",
    "        mylist.append(tg)\n",
    "        count +=1\n",
    "print(f\"Co {len(mylist)} tam giac\")\n",
    "        \n",
    "for i in mylist:\n",
    "    print(f\"Chu vi = {i.tinh_cv()}\")\n",
    "   "
   ]
  }
 ],
 "metadata": {
  "celltoolbar": "Aucun(e)",
  "kernelspec": {
   "display_name": "Python 3 (ipykernel)",
   "language": "python",
   "name": "python3"
  },
  "language_info": {
   "codemirror_mode": {
    "name": "ipython",
    "version": 3
   },
   "file_extension": ".py",
   "mimetype": "text/x-python",
   "name": "python",
   "nbconvert_exporter": "python",
   "pygments_lexer": "ipython3",
   "version": "3.11.1"
  }
 },
 "nbformat": 4,
 "nbformat_minor": 5
}
