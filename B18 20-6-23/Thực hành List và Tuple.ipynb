{
 "cells": [
  {
   "cell_type": "markdown",
   "id": "f232e8d3",
   "metadata": {},
   "source": [
    "## Bài 1: reversed list\n",
    "Hãy viết một chương trình để đảo ngược các phần tử trong list"
   ]
  },
  {
   "cell_type": "code",
   "execution_count": null,
   "id": "76a27163",
   "metadata": {},
   "outputs": [],
   "source": [
    "aList = [100, 200, 300, 400, 500]"
   ]
  },
  {
   "cell_type": "markdown",
   "id": "cc8fadd4",
   "metadata": {},
   "source": [
    "**Output:**"
   ]
  },
  {
   "cell_type": "code",
   "execution_count": null,
   "id": "7e6f728c",
   "metadata": {},
   "outputs": [],
   "source": [
    "[500, 400, 300, 200, 100]"
   ]
  },
  {
   "cell_type": "code",
   "execution_count": null,
   "id": "4e76942b",
   "metadata": {},
   "outputs": [],
   "source": [
    "aList = [100, 200, 300, 400, 500]\n",
    "# code below this line\n",
    "\n",
    "# code above this line"
   ]
  },
  {
   "cell_type": "markdown",
   "id": "df9f3540",
   "metadata": {},
   "source": [
    "## Bài 2: concatenation\n",
    "Hãy tạo ra một list mới bằng cách cộng các phần tử tương ứng của list cũ theo index tương ứng"
   ]
  },
  {
   "cell_type": "code",
   "execution_count": null,
   "id": "be729af4",
   "metadata": {},
   "outputs": [],
   "source": [
    "list1 = [\"M\", \"na\", \"i\", \"Ke\"]\n",
    "list2 = [\"y\", \"me\", \"s\", \"lly\"]"
   ]
  },
  {
   "cell_type": "markdown",
   "id": "843840c3",
   "metadata": {},
   "source": [
    "**Output:**"
   ]
  },
  {
   "cell_type": "code",
   "execution_count": null,
   "id": "3584d82f",
   "metadata": {},
   "outputs": [],
   "source": [
    "['My', 'name', 'is', 'Kelly']"
   ]
  },
  {
   "cell_type": "code",
   "execution_count": null,
   "id": "35e732f6",
   "metadata": {},
   "outputs": [],
   "source": [
    "list1 = [\"M\", \"na\", \"i\", \"Ke\"]\n",
    "list2 = [\"y\", \"me\", \"s\", \"lly\"]\n",
    "# code below this line\n",
    "\n",
    "# code above this line"
   ]
  },
  {
   "cell_type": "markdown",
   "id": "6f6a4a7d",
   "metadata": {},
   "source": [
    "## Bài 3: squared list\n",
    "Cho sẵn một list chứa các số tự nhiên. Bình phương các phần tử trong list và lưu vào một list mới."
   ]
  },
  {
   "cell_type": "code",
   "execution_count": null,
   "id": "0f3a0621",
   "metadata": {},
   "outputs": [],
   "source": [
    "aList = [1, 2, 3, 4, 5, 6, 7]"
   ]
  },
  {
   "cell_type": "markdown",
   "id": "adbeff53",
   "metadata": {},
   "source": [
    "**Output**"
   ]
  },
  {
   "cell_type": "code",
   "execution_count": null,
   "id": "809cb15b",
   "metadata": {},
   "outputs": [],
   "source": [
    "[1, 4, 9, 16, 25, 36, 49]\n",
    "# code below this line\n",
    "\n",
    "# code above this line"
   ]
  },
  {
   "cell_type": "markdown",
   "id": "e013e6e3",
   "metadata": {},
   "source": [
    "## Bài 4: concatenation 2\n",
    "Tạo ra một list mới từ 2 list ban đầu theo thứ tự như sau:"
   ]
  },
  {
   "cell_type": "code",
   "execution_count": null,
   "id": "3556bdb0",
   "metadata": {},
   "outputs": [],
   "source": [
    "list1 = [\"Hello \", \"take \"]\n",
    "list2 = [\"Dear\", \"Sir\"]"
   ]
  },
  {
   "cell_type": "markdown",
   "id": "c449c5ef",
   "metadata": {},
   "source": [
    "**Output**"
   ]
  },
  {
   "cell_type": "code",
   "execution_count": null,
   "id": "38473ed0",
   "metadata": {},
   "outputs": [],
   "source": [
    "['Hello Dear', 'Hello Sir', 'take Dear', 'take Sir']"
   ]
  },
  {
   "cell_type": "code",
   "execution_count": null,
   "id": "194ce3e1",
   "metadata": {},
   "outputs": [],
   "source": [
    "list1 = [\"Hello \", \"take \"]\n",
    "list2 = [\"Dear\", \"Sir\"]\n",
    "# code below this line\n",
    "\n",
    "# code above this line"
   ]
  },
  {
   "cell_type": "markdown",
   "id": "c9e280ff",
   "metadata": {},
   "source": [
    "## Bài 5: print list\n",
    "Cho 2 list có cùng số phần tử với nhau. Hãy in các thành phần trong 2 list theo format dưới đây:"
   ]
  },
  {
   "cell_type": "code",
   "execution_count": null,
   "id": "1a83314a",
   "metadata": {},
   "outputs": [],
   "source": [
    "list1 = [10, 20, 30, 40]\n",
    "list2 = [100, 200, 300, 400]"
   ]
  },
  {
   "cell_type": "markdown",
   "id": "9a4808a3",
   "metadata": {},
   "source": [
    "**Output**"
   ]
  },
  {
   "cell_type": "code",
   "execution_count": null,
   "id": "9569f340",
   "metadata": {},
   "outputs": [],
   "source": [
    "10 400\n",
    "20 300\n",
    "30 200\n",
    "40 100"
   ]
  },
  {
   "cell_type": "code",
   "execution_count": null,
   "id": "6c111e2a",
   "metadata": {},
   "outputs": [],
   "source": [
    "list1 = [10, 20, 30, 40]\n",
    "list2 = [100, 200, 300, 400]\n",
    "# code below this line\n",
    "\n",
    "# code above this line"
   ]
  },
  {
   "cell_type": "markdown",
   "id": "bd9edc4a",
   "metadata": {},
   "source": [
    "## Bài 6: remove empty\n",
    "Hãy xóa tất cả empty string trong list đã cho."
   ]
  },
  {
   "cell_type": "code",
   "execution_count": null,
   "id": "5ec76730",
   "metadata": {},
   "outputs": [],
   "source": [
    "list1 = [\"Mike\", \"\", \"Emma\", \"Kelly\", \"\", \"Brad\"]"
   ]
  },
  {
   "cell_type": "markdown",
   "id": "69056c1c",
   "metadata": {},
   "source": [
    "**Output**"
   ]
  },
  {
   "cell_type": "code",
   "execution_count": null,
   "id": "3aa7e6c9",
   "metadata": {},
   "outputs": [],
   "source": [
    "[\"Mike\", \"Emma\", \"Kelly\", \"Brad\"]"
   ]
  },
  {
   "cell_type": "code",
   "execution_count": null,
   "id": "ef5698ec",
   "metadata": {},
   "outputs": [],
   "source": [
    "list1 = [\"Mike\", \"\", \"Emma\", \"Kelly\", \"\", \"Brad\"]\n",
    "# code below this line\n",
    "\n",
    "# code above this line"
   ]
  },
  {
   "cell_type": "markdown",
   "id": "75ceada5",
   "metadata": {},
   "source": [
    "## Bài 7: list replacement\n",
    "Hãy tìm và thay thế số 20 **đầu tiên** trong list thành 200."
   ]
  },
  {
   "cell_type": "code",
   "execution_count": null,
   "id": "d164db9c",
   "metadata": {},
   "outputs": [],
   "source": [
    "list1 = [5, 10, 15, 20, 25, 50, 20]"
   ]
  },
  {
   "cell_type": "markdown",
   "id": "4fbe79da",
   "metadata": {},
   "source": [
    "**Output**"
   ]
  },
  {
   "cell_type": "code",
   "execution_count": null,
   "id": "02bab1e7",
   "metadata": {},
   "outputs": [],
   "source": [
    "[5, 10, 15, 200, 25, 50, 20]"
   ]
  },
  {
   "cell_type": "code",
   "execution_count": null,
   "id": "1f2f2fd3",
   "metadata": {},
   "outputs": [],
   "source": [
    "list1 = [5, 10, 15, 20, 25, 50, 20]\n",
    "# code below this line\n",
    "\n",
    "# code above this line"
   ]
  },
  {
   "cell_type": "markdown",
   "id": "b5beae3a",
   "metadata": {},
   "source": [
    "## Bài 8: list removement\n",
    "Hãy xóa bỏ **tất cả** số 20 ra khỏi list"
   ]
  },
  {
   "cell_type": "code",
   "execution_count": null,
   "id": "23a095ab",
   "metadata": {},
   "outputs": [],
   "source": [
    "list1 = [5, 20, 15, 20, 25, 50, 20]"
   ]
  },
  {
   "cell_type": "markdown",
   "id": "a01142b6",
   "metadata": {},
   "source": [
    "**Output:**"
   ]
  },
  {
   "cell_type": "code",
   "execution_count": null,
   "id": "7bdab892",
   "metadata": {},
   "outputs": [],
   "source": [
    "[5, 15, 25, 50]"
   ]
  },
  {
   "cell_type": "code",
   "execution_count": null,
   "id": "b20e64c9",
   "metadata": {},
   "outputs": [],
   "source": [
    "list1 = [5, 20, 15, 20, 25, 50, 20]\n",
    "# code below this line\n",
    "\n",
    "# code above this line"
   ]
  },
  {
   "cell_type": "markdown",
   "id": "8a215dc8",
   "metadata": {},
   "source": [
    "## Bài 9: unpack tuple"
   ]
  },
  {
   "cell_type": "code",
   "execution_count": null,
   "id": "b0c88ec3",
   "metadata": {},
   "outputs": [],
   "source": [
    "aTuple = (10, 20, 30, 40)"
   ]
  },
  {
   "cell_type": "code",
   "execution_count": null,
   "id": "6166ecdb",
   "metadata": {},
   "outputs": [],
   "source": [
    "aTuple = (10, 20, 30, 40)\n",
    "# Your code\n",
    "print(a) # should print 10\n",
    "print(b) # should print 20\n",
    "print(c) # should print 30\n",
    "print(d) # should print 40"
   ]
  },
  {
   "cell_type": "markdown",
   "id": "046a7351",
   "metadata": {},
   "source": [
    "## Bài 10: swap tuple\n",
    "Hãy thay đổi giá trị của 2 tuple cho nhau"
   ]
  },
  {
   "cell_type": "code",
   "execution_count": null,
   "id": "5818b64c",
   "metadata": {},
   "outputs": [],
   "source": [
    "tuple1 = (11, 22)\n",
    "tuple2 = (99, 88)"
   ]
  },
  {
   "cell_type": "markdown",
   "id": "cac1245f",
   "metadata": {},
   "source": [
    "**Output**"
   ]
  },
  {
   "cell_type": "code",
   "execution_count": null,
   "id": "534d2047",
   "metadata": {},
   "outputs": [],
   "source": [
    "tuple1 = (99, 88)\n",
    "tuple2 = (11, 22)"
   ]
  },
  {
   "cell_type": "code",
   "execution_count": null,
   "id": "a87aacaf",
   "metadata": {},
   "outputs": [],
   "source": [
    "tuple1 = (11, 22)\n",
    "tuple2 = (99, 88)\n",
    "# code below this line\n",
    "\n",
    "# code above this line"
   ]
  },
  {
   "cell_type": "markdown",
   "id": "9b809112",
   "metadata": {},
   "source": [
    "## Bài 11: count occurrence\n",
    "Hãy đếm tổng số lần xuất hiện của 50 trong tuple"
   ]
  },
  {
   "cell_type": "code",
   "execution_count": null,
   "id": "a3b700ed",
   "metadata": {},
   "outputs": [],
   "source": [
    "tuple1 = (50, 10, 60, 70, 50)"
   ]
  },
  {
   "cell_type": "markdown",
   "id": "b102abb2",
   "metadata": {},
   "source": [
    "**Output**"
   ]
  },
  {
   "cell_type": "code",
   "execution_count": null,
   "id": "31bf9a80",
   "metadata": {},
   "outputs": [],
   "source": [
    "2"
   ]
  },
  {
   "cell_type": "code",
   "execution_count": null,
   "id": "8204ebde",
   "metadata": {},
   "outputs": [],
   "source": [
    "tuple1 = (50, 10, 60, 70, 50)\n",
    "# code below this line\n",
    "\n",
    "# code above this line"
   ]
  },
  {
   "cell_type": "markdown",
   "id": "655416c8",
   "metadata": {},
   "source": [
    "## Bài 12: is it the same?\n",
    "Hãy kiểm tra xem các phần tử trong tuple có giống nhau hay không."
   ]
  },
  {
   "cell_type": "code",
   "execution_count": null,
   "id": "2aa28ca8",
   "metadata": {},
   "outputs": [],
   "source": [
    "tuple1 = (45, 45, 45, 45)"
   ]
  },
  {
   "cell_type": "markdown",
   "id": "da0c1e1f",
   "metadata": {},
   "source": [
    "**Output**"
   ]
  },
  {
   "cell_type": "code",
   "execution_count": null,
   "id": "17ceb626",
   "metadata": {},
   "outputs": [],
   "source": [
    "True"
   ]
  },
  {
   "cell_type": "code",
   "execution_count": null,
   "id": "2fad5ccd",
   "metadata": {},
   "outputs": [],
   "source": [
    "tuple1 = (45, 45, 45, 45)\n",
    "# code below this line\n",
    "\n",
    "# code above this line"
   ]
  }
 ],
 "metadata": {
  "kernelspec": {
   "display_name": "Python 3 (ipykernel)",
   "language": "python",
   "name": "python3"
  },
  "language_info": {
   "codemirror_mode": {
    "name": "ipython",
    "version": 3
   },
   "file_extension": ".py",
   "mimetype": "text/x-python",
   "name": "python",
   "nbconvert_exporter": "python",
   "pygments_lexer": "ipython3",
   "version": "3.9.6"
  }
 },
 "nbformat": 4,
 "nbformat_minor": 5
}
