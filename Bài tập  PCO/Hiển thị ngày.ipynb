{
 "cells": [
  {
   "cell_type": "code",
   "execution_count": 2,
   "id": "1dd6baa6",
   "metadata": {},
   "outputs": [
    {
     "name": "stdout",
     "output_type": "stream",
     "text": [
      "Give me a number (form 1 to 7): 3\n",
      "Wednesday\n"
     ]
    }
   ],
   "source": [
    "num = int(input(\"Give me a number (form 1 to 7): \"))\n",
    "if num == 1:\n",
    "\tprint(\"Monday\")\n",
    "elif num == 2:\n",
    "\tprint(\"Tuesday\")\n",
    "elif num == 3:\n",
    "\tprint(\"Wednesday\")\n",
    "elif num == 4:\n",
    "\tprint(\"Thursday\")\n",
    "elif num == 5:\n",
    "\tprint(\"Friday\")\n",
    "elif num == 6:\n",
    "\tprint(\"Saturday\")\n",
    "elif num == 7:\n",
    "\tprint(\"Sunday\")\n",
    "else:\n",
    "    print(\"Error, out of range\")"
   ]
  },
  {
   "cell_type": "code",
   "execution_count": null,
   "id": "a31bb2bf",
   "metadata": {},
   "outputs": [],
   "source": [
    "3\n"
   ]
  }
 ],
 "metadata": {
  "kernelspec": {
   "display_name": "Python 3 (ipykernel)",
   "language": "python",
   "name": "python3"
  },
  "language_info": {
   "codemirror_mode": {
    "name": "ipython",
    "version": 3
   },
   "file_extension": ".py",
   "mimetype": "text/x-python",
   "name": "python",
   "nbconvert_exporter": "python",
   "pygments_lexer": "ipython3",
   "version": "3.11.1"
  }
 },
 "nbformat": 4,
 "nbformat_minor": 5
}
