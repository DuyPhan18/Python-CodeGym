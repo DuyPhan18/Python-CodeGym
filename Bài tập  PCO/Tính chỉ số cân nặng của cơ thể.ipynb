{
 "cells": [
  {
   "cell_type": "code",
   "execution_count": 1,
   "id": "2c9a5f1a",
   "metadata": {},
   "outputs": [
    {
     "name": "stdout",
     "output_type": "stream",
     "text": [
      "Enter your height(cm): 175\n",
      "Enter your weight(kg): 88\n",
      "height(m): 1.75\n",
      "BMI: 28.73, Thừa cân\n"
     ]
    }
   ],
   "source": [
    "height = int(input(\"Enter your height(cm): \"))\n",
    "weight = int(input(\"Enter your weight(kg): \"))\n",
    "height = height/100\n",
    "print(f\"height(m): {height}\")\n",
    "BMI = round(weight/height**2,2)\n",
    "\n",
    "if BMI < 18.5:\n",
    "    if BMI < 16:\n",
    "        print(f\"BMI: {BMI}, Gầy cấp độ III\")\n",
    "    if 16 <= BMI < 17:\n",
    "        print(f\"BMI: {BMI}, Gầy cấp độ II\")\n",
    "    if 17 <= BMI < 18.5:\n",
    "        print(f\"BMI: {BMI}, Gầy cấp độ I\")\n",
    "elif BMI > 30:\n",
    "    if BMI > 40:\n",
    "        print(f\"BMI: {BMI}, Béo phì cấp độ III\")\n",
    "    if 35 <= BMI < 40:\n",
    "        print(f\"BMI: {BMI}, Béo phì cấp độ II\")\n",
    "    if 30 <= BMI < 35:\n",
    "        print(f\"BMI: {BMI}, Béo phì cấp độ I\")\n",
    "elif 25 < BMI < 30:\n",
    "    print(f\"BMI: {BMI}, Thừa cân\")\n",
    "elif 18.5 <= BMI < 25:\n",
    "    print(f\"BMI: {BMI}, Bình thường\")"
   ]
  }
 ],
 "metadata": {
  "kernelspec": {
   "display_name": "Python 3 (ipykernel)",
   "language": "python",
   "name": "python3"
  },
  "language_info": {
   "codemirror_mode": {
    "name": "ipython",
    "version": 3
   },
   "file_extension": ".py",
   "mimetype": "text/x-python",
   "name": "python",
   "nbconvert_exporter": "python",
   "pygments_lexer": "ipython3",
   "version": "3.11.1"
  }
 },
 "nbformat": 4,
 "nbformat_minor": 5
}
