{
 "cells": [
  {
   "cell_type": "code",
   "execution_count": 1,
   "id": "278d5ed5",
   "metadata": {},
   "outputs": [
    {
     "name": "stdout",
     "output_type": "stream",
     "text": [
      "Nhập màu hoặc mã màu: red\n",
      "Nhập chiều dài hình chữ nhật: 1000\n",
      "Nhập chiều rộng hình chữ nhật: 600\n",
      "Chu vi của hình chữ nhật (dài = 1000.0, rộng = 600.0) là 3200.0\n",
      "Diện tích của hình chữ nhật (dài = 1000.0, rộng = 600.0) là 600000.0\n"
     ]
    }
   ],
   "source": [
    "import turtle\n",
    "\n",
    "color = input(\"Nhập màu hoặc mã màu: \")\n",
    "w = float(input(\"Nhập chiều dài hình chữ nhật: \"))\n",
    "h = float(input(\"Nhập chiều rộng hình chữ nhật: \"))\n",
    "\n",
    "t = turtle.Turtle()\n",
    "t.hideturtle()\n",
    "t.color(color)\n",
    "t.begin_fill()\n",
    "t.forward(w)\n",
    "t.right(90)\n",
    "t.forward(h)\n",
    "t.right(90)\n",
    "t.forward(w)\n",
    "t.right(90)\n",
    "t.forward(h)\n",
    "t.end_fill()\n",
    "turtle.done()\n",
    "\n",
    "c = 2 * (w + h)\n",
    "s = w * h\n",
    "\n",
    "print(\"Chu vi của hình chữ nhật (dài = {w}, rộng = {h}) là {c}\".format(w=w, h=h, c=c))\n",
    "print(\"Diện tích của hình chữ nhật (dài = {w}, rộng = {h}) là {s}\".format(w=w, h=h, s=s))"
   ]
  }
 ],
 "metadata": {
  "kernelspec": {
   "display_name": "Python 3 (ipykernel)",
   "language": "python",
   "name": "python3"
  },
  "language_info": {
   "codemirror_mode": {
    "name": "ipython",
    "version": 3
   },
   "file_extension": ".py",
   "mimetype": "text/x-python",
   "name": "python",
   "nbconvert_exporter": "python",
   "pygments_lexer": "ipython3",
   "version": "3.11.1"
  }
 },
 "nbformat": 4,
 "nbformat_minor": 5
}
