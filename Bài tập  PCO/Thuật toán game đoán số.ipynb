{
 "cells": [
  {
   "cell_type": "code",
   "execution_count": 1,
   "id": "a9656586",
   "metadata": {},
   "outputs": [
    {
     "name": "stdout",
     "output_type": "stream",
     "text": [
      "input n ( 0 - 9 ): 1\n",
      "n : 4\n",
      "Sai\n"
     ]
    }
   ],
   "source": [
    "import random\n",
    "\n",
    "m = int(input(\"input n ( 0 - 9 ): \"))\n",
    "i = 0\n",
    "\n",
    "n = random.randint(0, 9)\n",
    "print(f\"n : {n}\")\n",
    "\n",
    "print(\"Đúng\") if m == n else print(\"Sai\")\n",
    "\n",
    "    "
   ]
  }
 ],
 "metadata": {
  "kernelspec": {
   "display_name": "Python 3 (ipykernel)",
   "language": "python",
   "name": "python3"
  },
  "language_info": {
   "codemirror_mode": {
    "name": "ipython",
    "version": 3
   },
   "file_extension": ".py",
   "mimetype": "text/x-python",
   "name": "python",
   "nbconvert_exporter": "python",
   "pygments_lexer": "ipython3",
   "version": "3.11.1"
  }
 },
 "nbformat": 4,
 "nbformat_minor": 5
}
