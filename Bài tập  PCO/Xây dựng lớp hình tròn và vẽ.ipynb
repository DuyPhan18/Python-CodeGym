{
 "cells": [
  {
   "cell_type": "code",
   "execution_count": 1,
   "id": "61dce384",
   "metadata": {},
   "outputs": [
    {
     "data": {
      "text/plain": [
       "188.49555921538757"
      ]
     },
     "execution_count": 1,
     "metadata": {},
     "output_type": "execute_result"
    }
   ],
   "source": [
    "import turtle\n",
    "import math\n",
    "\n",
    "class Circle:\n",
    "\n",
    "    def __init__(self, r, x, y):\n",
    "        \"\"\"\n",
    "        Hàm khởi tạo có tham số\n",
    "        :param r: Bán kính\n",
    "        :param x: Hoành độ x của tâm hình tròn\n",
    "        :param y: Tung độ y của tâm hình tròn\n",
    "        \"\"\"\n",
    "        self.r = r\n",
    "        self.x = x\n",
    "        self.y = y\n",
    "        \n",
    "    def draw(self):\n",
    "        \"\"\"Phương thức vẽ đường tròn\"\"\"\n",
    "        t = turtle.Turtle()\n",
    "        t.hideturtle()\n",
    "        t.penup()\n",
    "        t.goto(self.x, self.y)\n",
    "        t.pendown()\n",
    "        t.circle(self.r)\n",
    "        turtle.done()\n",
    "    def area(self):\n",
    "        '''Phương thức tính diện tích hình tròn'''\n",
    "        return math.pi * self.r ** 2\n",
    "\n",
    "    def perimeter(self):\n",
    "        \"\"\"\n",
    "        Phương thức tính chu vi đường tròn\n",
    "        \"\"\"\n",
    "        return 2 * math.pi * self.r\n",
    "c1 = Circle(30,60,70)\n",
    "c1.draw()\n",
    "c1.area()\n",
    "c1.perimeter()"
   ]
  }
 ],
 "metadata": {
  "kernelspec": {
   "display_name": "Python 3 (ipykernel)",
   "language": "python",
   "name": "python3"
  },
  "language_info": {
   "codemirror_mode": {
    "name": "ipython",
    "version": 3
   },
   "file_extension": ".py",
   "mimetype": "text/x-python",
   "name": "python",
   "nbconvert_exporter": "python",
   "pygments_lexer": "ipython3",
   "version": "3.11.1"
  }
 },
 "nbformat": 4,
 "nbformat_minor": 5
}
