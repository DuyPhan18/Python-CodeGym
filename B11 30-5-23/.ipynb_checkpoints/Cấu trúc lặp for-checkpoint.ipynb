{
 "cells": [
  {
   "cell_type": "markdown",
   "id": "33f9d7a5",
   "metadata": {},
   "source": [
    "# Cấu trúc lặp for trong python"
   ]
  },
  {
   "attachments": {
    "image.png": {
     "image/png": "[encoded data removed]"
    }
   },
   "cell_type": "markdown",
   "id": "f64c9eae",
   "metadata": {},
   "source": [
    "## Review: Vẽ kim tự tháp\n",
    "![image.png](attachment:image.png)"
   ]
  },
  {
   "cell_type": "code",
   "execution_count": null,
   "id": "ffcb1603",
   "metadata": {},
   "outputs": [],
   "source": []
  },
  {
   "cell_type": "markdown",
   "id": "35ef7a35",
   "metadata": {},
   "source": [
    "## for kết hợp với hàm range()"
   ]
  },
  {
   "cell_type": "markdown",
   "id": "80e01298",
   "metadata": {},
   "source": [
    "### Trường hợp 1 tham số"
   ]
  },
  {
   "cell_type": "code",
   "execution_count": null,
   "id": "b56eadb4",
   "metadata": {},
   "outputs": [],
   "source": []
  },
  {
   "cell_type": "markdown",
   "id": "b4eb03ed",
   "metadata": {},
   "source": [
    "### Ví dụ: In các số lẻ từ 0 đến 100"
   ]
  },
  {
   "cell_type": "code",
   "execution_count": null,
   "id": "f73caa14",
   "metadata": {},
   "outputs": [],
   "source": []
  },
  {
   "cell_type": "markdown",
   "id": "5b4c7f1c",
   "metadata": {},
   "source": [
    "### Trường hợp 2 tham số"
   ]
  },
  {
   "cell_type": "code",
   "execution_count": null,
   "id": "ab369d26",
   "metadata": {},
   "outputs": [],
   "source": []
  },
  {
   "cell_type": "markdown",
   "id": "06853353",
   "metadata": {},
   "source": [
    "### Ví dụ: In các số chia hết cho 7 từ a đến b"
   ]
  },
  {
   "cell_type": "code",
   "execution_count": null,
   "id": "7b21bcdf",
   "metadata": {},
   "outputs": [],
   "source": []
  },
  {
   "cell_type": "markdown",
   "id": "5f784920",
   "metadata": {},
   "source": [
    "### Trường hợp 3 tham số"
   ]
  },
  {
   "cell_type": "code",
   "execution_count": null,
   "id": "f6b32018",
   "metadata": {},
   "outputs": [],
   "source": []
  },
  {
   "cell_type": "markdown",
   "id": "a4c0fc85",
   "metadata": {},
   "source": [
    "### Ví dụ: Biểu diễn cấp số cộng"
   ]
  },
  {
   "cell_type": "code",
   "execution_count": null,
   "id": "9e9a5cbf",
   "metadata": {},
   "outputs": [],
   "source": []
  },
  {
   "cell_type": "markdown",
   "id": "a2a61887",
   "metadata": {},
   "source": [
    "## lặp qua một chuỗi"
   ]
  },
  {
   "cell_type": "code",
   "execution_count": null,
   "id": "e495f392",
   "metadata": {},
   "outputs": [],
   "source": []
  },
  {
   "cell_type": "markdown",
   "id": "a4013631",
   "metadata": {},
   "source": [
    "### Ví dụ: Đếm số lượng nguyên âm trong chuỗi"
   ]
  },
  {
   "cell_type": "code",
   "execution_count": null,
   "id": "319bfb92",
   "metadata": {},
   "outputs": [],
   "source": []
  },
  {
   "cell_type": "markdown",
   "id": "49bf78d3",
   "metadata": {},
   "source": [
    "## Lặp qua một danh sách chuỗi"
   ]
  },
  {
   "cell_type": "code",
   "execution_count": null,
   "id": "0a5874cf",
   "metadata": {},
   "outputs": [],
   "source": []
  },
  {
   "cell_type": "markdown",
   "id": "be1b5ba5",
   "metadata": {},
   "source": [
    "### Ví dụ: Tìm chuỗi dài nhất"
   ]
  },
  {
   "cell_type": "code",
   "execution_count": null,
   "id": "d6e7ef2c",
   "metadata": {},
   "outputs": [],
   "source": []
  },
  {
   "cell_type": "markdown",
   "id": "69fa4d9f",
   "metadata": {},
   "source": [
    "## Vòng lặp lồng nhau"
   ]
  },
  {
   "cell_type": "code",
   "execution_count": null,
   "id": "864bc218",
   "metadata": {},
   "outputs": [],
   "source": []
  }
 ],
 "metadata": {
  "kernelspec": {
   "display_name": "Python 3 (ipykernel)",
   "language": "python",
   "name": "python3"
  },
  "language_info": {
   "codemirror_mode": {
    "name": "ipython",
    "version": 3
   },
   "file_extension": ".py",
   "mimetype": "text/x-python",
   "name": "python",
   "nbconvert_exporter": "python",
   "pygments_lexer": "ipython3",
   "version": "3.11.1"
  }
 },
 "nbformat": 4,
 "nbformat_minor": 5
}
