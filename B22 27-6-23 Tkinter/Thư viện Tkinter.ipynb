{
 "cells": [
  {
   "cell_type": "markdown",
   "id": "7637b45d",
   "metadata": {},
   "source": [
    "# Tkinter"
   ]
  },
  {
   "cell_type": "markdown",
   "id": "aef48c70",
   "metadata": {},
   "source": [
    "## Tkinter là gì?\n",
    "Tkinter là thư viện GUI tiêu chuẩn cho Python."
   ]
  },
  {
   "cell_type": "markdown",
   "id": "a555c9c5",
   "metadata": {},
   "source": [
    "## Các bước tạo ứng dụng Tkinter\n",
    "**Bước 1:** Import Tkinter module\n",
    "\n",
    "**Bước 2:** Tạo ra cửa số chính cho ứng dụng \n",
    "\n",
    "**Bước 3:** Thêm một số widget cho ứng dụng\n",
    "\n",
    "**Bước 4:** Tạo vòng lặp sự kiện chính để các hành động có thể diễn ra trên màn hình máy tính của người dùng\n"
   ]
  },
  {
   "cell_type": "markdown",
   "id": "f5a0f4e8",
   "metadata": {},
   "source": [
    "## Import Tkinter \n",
    "\n",
    "Cú pháp:\n",
    "\n",
    "`from tkinter import *`\n",
    "\n",
    "<b> Thêm thư viện: </b>"
   ]
  },
  {
   "cell_type": "code",
   "execution_count": 48,
   "id": "28a5f795",
   "metadata": {},
   "outputs": [],
   "source": [
    "from tkinter import *"
   ]
  },
  {
   "cell_type": "markdown",
   "id": "27f1704a",
   "metadata": {},
   "source": [
    "## Tạo ra cửa số cho ứng dụng\n",
    "\n",
    "Cú pháp:\n",
    "\n",
    "`<tên đối tượng> = Tk()`\n",
    "\n",
    "Đổi tiêu đề cửa số:\n",
    "\n",
    "`<tên đối tượng>.title(\"Tiêu đề mới\")`\n",
    "\n",
    "##### Lưu ý: ta cần thêm hàm `<tên đối tượng>.mainloop()` để cửa sổ hoạt động\n",
    "\n",
    "<b>Hãy khởi tạo một cửa sổ:</b>"
   ]
  },
  {
   "cell_type": "code",
   "execution_count": 62,
   "id": "3063eaa3",
   "metadata": {},
   "outputs": [],
   "source": [
    "from tkinter import *\n",
    "\n",
    "app = Tk()\n",
    "app.title(\"Login Page\")\n",
    "\n",
    "lbl_login = Label(app, text = \"LOGIN\")\n",
    "lbl_username = Label(app, text=\"USERNAME\")\n",
    "username = Entry(app)\n",
    "lbl_password = Label(app, text=\"PASSWORD\")\n",
    "password = Entry(app)\n",
    "btn_login = Button(app, text = \"Login\")\n",
    "\n",
    "lbl_login.pack()\n",
    "lbl_username.pack()\n",
    "username.pack()\n",
    "lbl_password.pack()\n",
    "password.pack()\n",
    "btn_login.pack()\n",
    "app.mainloop()\n",
    "\n",
    "app.mainloop()"
   ]
  },
  {
   "cell_type": "markdown",
   "id": "6a7f27d7",
   "metadata": {},
   "source": [
    "## Thêm widget cho ứng dụng\n",
    "\n",
    "\n",
    "Widget là những đối tượng sẽ hiển thị và hoạt động trên cửa số\n",
    "\n",
    "Có rất nhiều loại Widget như: nút nhấn (button), nhãn (label), khung nhập dữ liệu (Entry),..."
   ]
  },
  {
   "cell_type": "code",
   "execution_count": 58,
   "id": "396c5f84",
   "metadata": {},
   "outputs": [
    {
     "ename": "TclError",
     "evalue": "can't invoke \"pack\" command: application has been destroyed",
     "output_type": "error",
     "traceback": [
      "\u001b[1;31m---------------------------------------------------------------------------\u001b[0m",
      "\u001b[1;31mTclError\u001b[0m                                  Traceback (most recent call last)",
      "Cell \u001b[1;32mIn[58], line 1\u001b[0m\n\u001b[1;32m----> 1\u001b[0m \u001b[43mlbl_login\u001b[49m\u001b[38;5;241;43m.\u001b[39;49m\u001b[43mpack\u001b[49m\u001b[43m(\u001b[49m\u001b[43m)\u001b[49m\n\u001b[0;32m      2\u001b[0m lbl_username\u001b[38;5;241m.\u001b[39mpack()\n\u001b[0;32m      3\u001b[0m username\u001b[38;5;241m.\u001b[39mpack()\n",
      "File \u001b[1;32m~\\AppData\\Local\\Programs\\Python\\Python311\\Lib\\tkinter\\__init__.py:2452\u001b[0m, in \u001b[0;36mPack.pack_configure\u001b[1;34m(self, cnf, **kw)\u001b[0m\n\u001b[0;32m   2436\u001b[0m \u001b[38;5;28;01mdef\u001b[39;00m \u001b[38;5;21mpack_configure\u001b[39m(\u001b[38;5;28mself\u001b[39m, cnf\u001b[38;5;241m=\u001b[39m{}, \u001b[38;5;241m*\u001b[39m\u001b[38;5;241m*\u001b[39mkw):\n\u001b[0;32m   2437\u001b[0m \u001b[38;5;250m    \u001b[39m\u001b[38;5;124;03m\"\"\"Pack a widget in the parent widget. Use as options:\u001b[39;00m\n\u001b[0;32m   2438\u001b[0m \u001b[38;5;124;03m    after=widget - pack it after you have packed widget\u001b[39;00m\n\u001b[0;32m   2439\u001b[0m \u001b[38;5;124;03m    anchor=NSEW (or subset) - position widget according to\u001b[39;00m\n\u001b[1;32m   (...)\u001b[0m\n\u001b[0;32m   2450\u001b[0m \u001b[38;5;124;03m    side=TOP or BOTTOM or LEFT or RIGHT -  where to add this widget.\u001b[39;00m\n\u001b[0;32m   2451\u001b[0m \u001b[38;5;124;03m    \"\"\"\u001b[39;00m\n\u001b[1;32m-> 2452\u001b[0m     \u001b[38;5;28;43mself\u001b[39;49m\u001b[38;5;241;43m.\u001b[39;49m\u001b[43mtk\u001b[49m\u001b[38;5;241;43m.\u001b[39;49m\u001b[43mcall\u001b[49m\u001b[43m(\u001b[49m\n\u001b[0;32m   2453\u001b[0m \u001b[43m          \u001b[49m\u001b[43m(\u001b[49m\u001b[38;5;124;43m'\u001b[39;49m\u001b[38;5;124;43mpack\u001b[39;49m\u001b[38;5;124;43m'\u001b[39;49m\u001b[43m,\u001b[49m\u001b[43m \u001b[49m\u001b[38;5;124;43m'\u001b[39;49m\u001b[38;5;124;43mconfigure\u001b[39;49m\u001b[38;5;124;43m'\u001b[39;49m\u001b[43m,\u001b[49m\u001b[43m \u001b[49m\u001b[38;5;28;43mself\u001b[39;49m\u001b[38;5;241;43m.\u001b[39;49m\u001b[43m_w\u001b[49m\u001b[43m)\u001b[49m\n\u001b[0;32m   2454\u001b[0m \u001b[43m          \u001b[49m\u001b[38;5;241;43m+\u001b[39;49m\u001b[43m \u001b[49m\u001b[38;5;28;43mself\u001b[39;49m\u001b[38;5;241;43m.\u001b[39;49m\u001b[43m_options\u001b[49m\u001b[43m(\u001b[49m\u001b[43mcnf\u001b[49m\u001b[43m,\u001b[49m\u001b[43m \u001b[49m\u001b[43mkw\u001b[49m\u001b[43m)\u001b[49m\u001b[43m)\u001b[49m\n",
      "\u001b[1;31mTclError\u001b[0m: can't invoke \"pack\" command: application has been destroyed"
     ]
    }
   ],
   "source": [
    "lbl_login.pack()\n",
    "lbl_username.pack()\n",
    "username.pack()\n",
    "lbl_password.pack()\n",
    "password.pack()\n",
    "btn_login.pack()\n",
    "app.mainloop()"
   ]
  },
  {
   "cell_type": "markdown",
   "id": "50cf878f",
   "metadata": {},
   "source": [
    "## label\n",
    "\n",
    "Cú pháp:\n",
    "\n",
    "`<tên đối tượng> = Label(<cửa số>,text = <nội dung>)`"
   ]
  },
  {
   "cell_type": "code",
   "execution_count": 50,
   "id": "6826b7e0",
   "metadata": {},
   "outputs": [],
   "source": [
    "lbl_login = Label(app, text = \"LOGIN\")\n",
    "lbl_username = Label(app, text=\"USERNAME\")\n",
    "lbl_password = Label(app, text=\"PASSWORD\")"
   ]
  },
  {
   "cell_type": "markdown",
   "id": "fbf4ab01",
   "metadata": {},
   "source": [
    "## entry\n",
    "\n",
    "Cú pháp:\n",
    "\n",
    "`<tên đối tượng> = Entry(<cửa số>)`\n"
   ]
  },
  {
   "cell_type": "code",
   "execution_count": 51,
   "id": "a8dea346",
   "metadata": {},
   "outputs": [],
   "source": [
    "username = Entry(app)\n",
    "password = Entry(app)"
   ]
  },
  {
   "cell_type": "markdown",
   "id": "220d3157",
   "metadata": {},
   "source": [
    "## button\n",
    "\n",
    "Cú pháp:\n",
    "\n",
    "`<tên đối tượng> = Button(<cửa số>,text = <nội dung>)`"
   ]
  },
  {
   "cell_type": "code",
   "execution_count": 52,
   "id": "4376bd13",
   "metadata": {},
   "outputs": [],
   "source": [
    "btn_login = Button(app, text = \"Login\")"
   ]
  },
  {
   "cell_type": "markdown",
   "id": "8bd06b13",
   "metadata": {},
   "source": [
    "## combobox"
   ]
  },
  {
   "cell_type": "code",
   "execution_count": null,
   "id": "74694770",
   "metadata": {},
   "outputs": [],
   "source": []
  },
  {
   "cell_type": "markdown",
   "id": "f5203893",
   "metadata": {},
   "source": [
    "## text"
   ]
  },
  {
   "cell_type": "code",
   "execution_count": null,
   "id": "f822f455",
   "metadata": {},
   "outputs": [],
   "source": []
  },
  {
   "cell_type": "markdown",
   "id": "7b58544c",
   "metadata": {},
   "source": [
    "## messagebox"
   ]
  },
  {
   "cell_type": "code",
   "execution_count": null,
   "id": "d721e682",
   "metadata": {},
   "outputs": [],
   "source": []
  },
  {
   "cell_type": "markdown",
   "id": "eebac94e",
   "metadata": {},
   "source": [
    "## checkbutton"
   ]
  },
  {
   "cell_type": "code",
   "execution_count": null,
   "id": "1e534acb",
   "metadata": {},
   "outputs": [],
   "source": []
  }
 ],
 "metadata": {
  "kernelspec": {
   "display_name": "Python 3 (ipykernel)",
   "language": "python",
   "name": "python3"
  },
  "language_info": {
   "codemirror_mode": {
    "name": "ipython",
    "version": 3
   },
   "file_extension": ".py",
   "mimetype": "text/x-python",
   "name": "python",
   "nbconvert_exporter": "python",
   "pygments_lexer": "ipython3",
   "version": "3.11.1"
  }
 },
 "nbformat": 4,
 "nbformat_minor": 5
}
