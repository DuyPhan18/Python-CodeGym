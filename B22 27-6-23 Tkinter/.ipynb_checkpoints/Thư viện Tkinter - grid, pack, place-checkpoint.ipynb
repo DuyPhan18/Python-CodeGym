{
 "cells": [
  {
   "cell_type": "markdown",
   "id": "4c559a90",
   "metadata": {},
   "source": [
    "## pack\n",
    "\n",
    "Lệnh `pack()` sẽ giúp sắp xếp các đối tượng theo thứ tự nhất định"
   ]
  },
  {
   "cell_type": "code",
   "execution_count": null,
   "id": "d6af98e3",
   "metadata": {},
   "outputs": [],
   "source": [
    "from tkinter import *\n",
    "\n",
    "app = Tk()\n",
    "app.title(\"Login Page\")\n",
    "\n",
    "lbl_login = Label(app, text = \"LOGIN\")\n",
    "lbl_username = Label(app, text=\"USERNAME\")\n",
    "username = Entry(app)\n",
    "lbl_password = Label(app, text=\"PASSWORD\")\n",
    "password = Entry(app)\n",
    "btn_login = Button(app, text = \"Login\")\n",
    "\n",
    "lbl_login.pack()\n",
    "lbl_username.pack()\n",
    "username.pack()\n",
    "lbl_password.pack()\n",
    "password.pack()\n",
    "btn_login.pack()\n",
    "\n",
    "\n",
    "app.mainloop()"
   ]
  },
  {
   "cell_type": "markdown",
   "id": "0093b00d",
   "metadata": {},
   "source": [
    "## grid\n",
    "Lệnh `grid()` sẽ giúp sắp xếp các đối tượng theo một bảng"
   ]
  },
  {
   "cell_type": "code",
   "execution_count": 13,
   "id": "d89cd306",
   "metadata": {},
   "outputs": [],
   "source": [
    "from tkinter import *\n",
    "\n",
    "app = Tk()\n",
    "app.title(\"Login Page\")\n",
    "\n",
    "lbl_login = Label(app, text = \"LOGIN\")\n",
    "lbl_username = Label(app, text=\"USERNAME\")\n",
    "username = Entry(app)\n",
    "lbl_password = Label(app, text=\"PASSWORD\")\n",
    "password = Entry(app)\n",
    "btn_login = Button(app, text = \"Login\")\n",
    "\n",
    "lbl_login.grid(row = 0, column = 0, columnspan=2)\n",
    "lbl_username.grid(row = 1, column = 0)\n",
    "username.grid(row = 1, column = 1)\n",
    "lbl_password.grid(row =2, column = 0)\n",
    "password.grid(row = 2, column = 1)\n",
    "btn_login.grid(row = 3, column = 0)\n",
    "\n",
    "app.mainloop()"
   ]
  },
  {
   "cell_type": "markdown",
   "id": "f0a05577",
   "metadata": {},
   "source": [
    "## place\n",
    "\n",
    "Lệnh `place()` sắp xếp các widget bằng cách đặt chúng vào một vị trí cụ thể trong widget chính."
   ]
  },
  {
   "cell_type": "code",
   "execution_count": null,
   "id": "070e6374",
   "metadata": {},
   "outputs": [],
   "source": [
    "from tkinter import *\n",
    "\n",
    "app = Tk()\n",
    "app.title(\"Login Page\")\n",
    "app.geometry(\"300x600\")\n",
    "\n",
    "lbl_login = Label(app, text = \"LOGIN\")\n",
    "lbl_username = Label(app, text=\"USERNAME\")\n",
    "username = Entry(app)\n",
    "lbl_password = Label(app, text=\"PASSWORD\")\n",
    "password = Entry(app)\n",
    "btn_login = Button(app, text = \"Login\")\n",
    "\n",
    "lbl_login.place(x = 150, y = 10)\n",
    "lbl_username.place(x = 10, y = 50)\n",
    "username.place(x = 100, y = 50)\n",
    "lbl_password.place(x = 10, y = 70)\n",
    "password.place(x = 100, y = 70)\n",
    "btn_login.place(x = 150, y = 100 )\n",
    "\n",
    "app.mainloop()"
   ]
  }
 ],
 "metadata": {
  "kernelspec": {
   "display_name": "Python 3 (ipykernel)",
   "language": "python",
   "name": "python3"
  },
  "language_info": {
   "codemirror_mode": {
    "name": "ipython",
    "version": 3
   },
   "file_extension": ".py",
   "mimetype": "text/x-python",
   "name": "python",
   "nbconvert_exporter": "python",
   "pygments_lexer": "ipython3",
   "version": "3.11.1"
  }
 },
 "nbformat": 4,
 "nbformat_minor": 5
}
