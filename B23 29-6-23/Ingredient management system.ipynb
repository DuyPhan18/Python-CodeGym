{
 "cells": [
  {
   "cell_type": "code",
   "execution_count": 1,
   "id": "96cd8d48",
   "metadata": {},
   "outputs": [],
   "source": [
    "class Ingredient:\n",
    "    def __init__(self, name, quantity):\n",
    "        self.name = name\n",
    "        self.quantity = quantity\n",
    "    def __str__(self):\n",
    "        return f\"Name: {self.name}, quantity: {self.quantiy}\"\n",
    "    "
   ]
  },
  {
   "cell_type": "code",
   "execution_count": 19,
   "id": "fce171f9",
   "metadata": {},
   "outputs": [
    {
     "ename": "SyntaxError",
     "evalue": "invalid syntax (3176825459.py, line 11)",
     "output_type": "error",
     "traceback": [
      "\u001b[1;36m  Cell \u001b[1;32mIn[19], line 11\u001b[1;36m\u001b[0m\n\u001b[1;33m    global name_value = name.get()\u001b[0m\n\u001b[1;37m                      ^\u001b[0m\n\u001b[1;31mSyntaxError\u001b[0m\u001b[1;31m:\u001b[0m invalid syntax\n"
     ]
    }
   ],
   "source": [
    "from tkinter import *\n",
    "from tkinter import messagebox\n",
    "\n",
    "\n",
    "app = Tk()\n",
    "app.title(\"Ingredient Management System\")\n",
    "\n",
    "ingre_lst = []\n",
    "\n",
    "def add_ingre():\n",
    "    global name_value = name.get()\n",
    "    global quantity_value = quantity.get()\n",
    "\n",
    "    if name_value == \"\" or quantity_value == \"\":\n",
    "        messagebox.showerror(\"Ingre\", \"Please enter name and quantity\")\n",
    "    else:\n",
    "        new_ingredient = Ingredient(name_value, int(quantity_value))\n",
    "        ingre_lst.append(new_ingredient)\n",
    "        \n",
    "        print([ingre.name for ingre in ingre_lst])\n",
    "        messagebox.showinfo(\"Ingre\", f\"Added {name_value} successfully!\")    \n",
    "        name.delete(0, \"end\")\n",
    "        quantity.delete(0, \"end\")\n",
    "\n",
    "def delete_ingre():\n",
    "    delete_name = search_name.get()\n",
    "    check = False\n",
    "    for i in range(len(ingre_lst)):\n",
    "        if ingre_lst[i].name == delete_name:\n",
    "            del ingre_lst[i]\n",
    "            print([ingre.name for ingre in ingre_lst])\n",
    "            messagebox.showinfo(\"Ingre\", f\"Deleted {delete_name} successfully!\")\n",
    "            check = True\n",
    "            break\n",
    "            \n",
    "    if check == False:\n",
    "        messagebox.showerror(\"Delete Ingre\", \"Cannot find Ingredient\")\n",
    "\n",
    "def search_ingre():\n",
    "    ingre_name = search_name.get()\n",
    "    check = False\n",
    "    name.delete(0, \"end\")\n",
    "    quantity.delete(0, \"end\")\n",
    "    for i in range(len(ingre_lst)):\n",
    "        if ingre_lst[i].name == ingre_name:\n",
    "            check = True\n",
    "            name.insert(0, ingre_lst[i].name)\n",
    "            quantity.insert(0, ingre_lst[i].quantity)\n",
    "            btn_update.config(state=ACTIVE) # đổi state của btn update thành active\n",
    "            return check\n",
    "            break\n",
    "        def update_ingre():\n",
    "            new_quantity_value = quantity.get()\n",
    "            quantity_value += int(new_quantity_value)\n",
    "            new_ingredient = Ingredient(name_value, int(quantity_value))\n",
    "    if check == False:\n",
    "        return check\n",
    "        messagebox.showerror(\"Search Ingredient\", \"Cannot find Ingredient\")\n",
    "def reset():\n",
    "    name.delete(0, \"end\")\n",
    "    quantity.delete(0, \"end\")\n",
    "    search_name.delete(0, \"end\")\n",
    "    \n",
    "lbl_name = Label(app, text = \"name\")\n",
    "lbl_quantity = Label(app, text = \"Quantity:\")\n",
    "\n",
    "name = Entry(app)\n",
    "quantity = Entry(app)\n",
    "search_name = Entry(app)\n",
    "\n",
    "btn_add = Button(app, text=\"Add\", command = add_ingre)\n",
    "btn_update = Button(app, text=\"Update\", command = update_ingre, state = DISABLED)\n",
    "btn_delete = Button(app, text=\"Delete\", command = delete_ingre)\n",
    "btn_reset = Button(app, text=\"Reset\", command = reset)\n",
    "btn_search = Button(app, text=\"Search\", command = search_ingre)\n",
    "\n",
    "lbl_name.grid(row = 0, column = 0)\n",
    "name.grid(row = 0, column = 1)\n",
    "lbl_quantity.grid(row = 1, column = 0)\n",
    "quantity.grid(row = 1, column = 1)\n",
    "btn_add.grid(row = 2, column = 0)\n",
    "btn_update.grid(row = 2, column = 1)\n",
    "btn_delete.grid(row = 2, column = 2)\n",
    "btn_reset.grid(row = 2, column = 3)\n",
    "search_name.grid(row = 3, column = 0)\n",
    "btn_search.grid(row = 3, column = 1)\n",
    "\n",
    "app.mainloop()"
   ]
  },
  {
   "cell_type": "code",
   "execution_count": 30,
   "id": "3c29a812",
   "metadata": {},
   "outputs": [
    {
     "name": "stdout",
     "output_type": "stream",
     "text": [
      "1\n",
      "Name of Book: a, Category: b, price: 2\n"
     ]
    }
   ],
   "source": [
    "class Books:\n",
    "    def __init__(self, book_name, book_cate, price):\n",
    "        self.book_name = book_name\n",
    "        self.book_cate = book_cate\n",
    "        self.price = price\n",
    "    def __str__(self):\n",
    "        return f\"Name of Book: {self.book_name}, Category: {self.book_cate}, price: {self.price}\"\n",
    "a= []\n",
    "b = Books(\"a\", \"b\", 1)\n",
    "c = Books(\"c\", \"b\", 1)\n",
    "a.append(b)\n",
    "a.append(c)\n",
    "\n",
    "for i in range (len(a)):\n",
    "    if a[i].book_name == \"a\":\n",
    "        a[i].price = 2\n",
    "        print(a[i])"
   ]
  }
 ],
 "metadata": {
  "kernelspec": {
   "display_name": "Python 3 (ipykernel)",
   "language": "python",
   "name": "python3"
  },
  "language_info": {
   "codemirror_mode": {
    "name": "ipython",
    "version": 3
   },
   "file_extension": ".py",
   "mimetype": "text/x-python",
   "name": "python",
   "nbconvert_exporter": "python",
   "pygments_lexer": "ipython3",
   "version": "3.11.1"
  }
 },
 "nbformat": 4,
 "nbformat_minor": 5
}
