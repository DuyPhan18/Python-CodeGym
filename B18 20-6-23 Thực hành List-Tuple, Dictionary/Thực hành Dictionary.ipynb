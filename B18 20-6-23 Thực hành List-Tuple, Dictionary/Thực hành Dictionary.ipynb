{
 "cells": [
  {
   "cell_type": "code",
   "execution_count": null,
   "id": "afeeef1e",
   "metadata": {},
   "outputs": [],
   "source": [
    "\"\"\"\n",
    "Warm-up 1: Cho một danh sách sản phẩm như sau:\n",
    "products = {\n",
    "    'SMART WATCH': 550,\n",
    "    'PHONE' : 1000,\n",
    "    'PLAYSTATION': 500,\n",
    "    'LAPTOP' : 1550,\n",
    "    'MUSIC PLAYER' : 600,\n",
    "    'TABLET' : 400 \n",
    "}\n",
    "Viết chương trình hiển thị các sản phẩm có giá bé hơn hoặc bằng so với giá tiền mà người dùng nhập\n",
    "\"\"\""
   ]
  },
  {
   "cell_type": "code",
   "execution_count": 4,
   "id": "b7b4dac0",
   "metadata": {},
   "outputs": [
    {
     "name": "stdout",
     "output_type": "stream",
     "text": [
      "Input money: 550\n",
      "SMART WATCH\n",
      "PLAYSTATION\n",
      "TABLET\n"
     ]
    }
   ],
   "source": [
    "products = {\n",
    "    'SMART WATCH': 550,\n",
    "    'PHONE' : 1000,\n",
    "    'PLAYSTATION': 500,\n",
    "    'LAPTOP' : 1550,\n",
    "    'MUSIC PLAYER' : 600,\n",
    "    'TABLET' : 400 \n",
    "}\n",
    "money = int(input(\"Input money: \"))\n",
    "\n",
    "#lặp key trong danh sách sản phẩm\n",
    "for key in products.keys():\n",
    "    #nếu value tại key <= money thì in key ra\n",
    "    if products[key] <= money:\n",
    "        print(key)\n"
   ]
  },
  {
   "cell_type": "code",
   "execution_count": null,
   "id": "d13dac33",
   "metadata": {},
   "outputs": [],
   "source": [
    "\"\"\"\n",
    "Warm-up 2: \n",
    "\"\"\""
   ]
  },
  {
   "cell_type": "markdown",
   "id": "8c8e6996",
   "metadata": {},
   "source": [
    "## Bài 1: list to dict\n",
    "Cho 2 list có cùng số phần tử với nhau. Hãy tạo ra một dict từ 2 list đã cho theo format dưới đây:"
   ]
  },
  {
   "cell_type": "markdown",
   "id": "3a7678e1",
   "metadata": {},
   "source": [
    "**Input**"
   ]
  },
  {
   "cell_type": "code",
   "execution_count": null,
   "id": "0fbebf7c",
   "metadata": {},
   "outputs": [],
   "source": [
    "keys = ['Ten', 'Twenty', 'Thirty']\n",
    "values = [10, 20, 30]"
   ]
  },
  {
   "cell_type": "markdown",
   "id": "40e2e982",
   "metadata": {},
   "source": [
    "**Output**"
   ]
  },
  {
   "cell_type": "code",
   "execution_count": null,
   "id": "a39de7b9",
   "metadata": {},
   "outputs": [],
   "source": [
    "{'Ten': 10, 'Twenty': 20, 'Thirty': 30}"
   ]
  },
  {
   "cell_type": "markdown",
   "id": "a172c210",
   "metadata": {},
   "source": [
    "**Your code**"
   ]
  },
  {
   "cell_type": "code",
   "execution_count": 11,
   "id": "cc626371",
   "metadata": {},
   "outputs": [
    {
     "name": "stdout",
     "output_type": "stream",
     "text": [
      "{'Ten': 10, 'Twenty': 20, 'Thirty': 30}\n"
     ]
    }
   ],
   "source": [
    "keys = ['Ten', 'Twenty', 'Thirty']\n",
    "values = [10, 20, 30]\n",
    "# code below this line\n",
    "#tạo dict rỗng\n",
    "dic = {}\n",
    "#lặp key, value trong keys, values để lấy index\n",
    "for key in range(len(keys)):\n",
    "    for value in range(len(values)):\n",
    "        #ktra nếu index bằng nhau\n",
    "        if key == value:\n",
    "            #thêm key và value vào dic\n",
    "            dic[keys[key]] = values[value]\n",
    "print(dic)\n",
    "# code above this line"
   ]
  },
  {
   "cell_type": "markdown",
   "id": "42f7b4c2",
   "metadata": {},
   "source": [
    "## Bài 2: merge dictionary\n",
    "Hãy gộp 2 dictionary sau đây thành một."
   ]
  },
  {
   "cell_type": "markdown",
   "id": "dffe0f02",
   "metadata": {},
   "source": [
    "**Input**"
   ]
  },
  {
   "cell_type": "code",
   "execution_count": null,
   "id": "f4b5792d",
   "metadata": {},
   "outputs": [],
   "source": [
    "dict1 = {'Ten': 10, 'Twenty': 20, 'Thirty': 30}\n",
    "dict2 = {'Thirty': 30, 'Fourty': 40, 'Fifty': 50}"
   ]
  },
  {
   "cell_type": "markdown",
   "id": "e462fbb0",
   "metadata": {},
   "source": [
    "**Output**"
   ]
  },
  {
   "cell_type": "code",
   "execution_count": null,
   "id": "645f3aff",
   "metadata": {},
   "outputs": [],
   "source": [
    "{'Ten': 10, 'Twenty': 20, 'Thirty': 30, 'Fourty': 40, 'Fifty': 50}"
   ]
  },
  {
   "cell_type": "markdown",
   "id": "4dfb4297",
   "metadata": {},
   "source": [
    "**Your code**"
   ]
  },
  {
   "cell_type": "code",
   "execution_count": 14,
   "id": "9233356c",
   "metadata": {},
   "outputs": [
    {
     "name": "stdout",
     "output_type": "stream",
     "text": [
      "{'Ten': 10, 'Twenty': 20, 'Thirty': 30, 'Fourty': 40, 'Fifty': 50}\n"
     ]
    }
   ],
   "source": [
    "dict1 = {'Ten': 10, 'Twenty': 20, 'Thirty': 30}\n",
    "dict2 = {'Thirty': 30, 'Fourty': 40, 'Fifty': 50}\n",
    "# code below this line\n",
    "#dùng hàm update để ghép 2 dict\n",
    "dict1.update(dict2)\n",
    "print(dict1)\n",
    "# code above this line"
   ]
  },
  {
   "cell_type": "markdown",
   "id": "5b0ad3bc",
   "metadata": {},
   "source": [
    "## Bài 3: where is the value?\n",
    "Hãy in ra giá trị của \"history\" trong dictionary dưới đây."
   ]
  },
  {
   "cell_type": "markdown",
   "id": "89460c2d",
   "metadata": {},
   "source": [
    "**Input**"
   ]
  },
  {
   "cell_type": "code",
   "execution_count": null,
   "id": "7c4ec109",
   "metadata": {},
   "outputs": [],
   "source": [
    "sampleDict = { \n",
    "   \"class\":{ \n",
    "      \"student\":{ \n",
    "         \"name\":\"Mike\",\n",
    "         \"marks\":{ \n",
    "            \"physics\":70,\n",
    "            \"history\":80\n",
    "         }\n",
    "      }\n",
    "   }\n",
    "}"
   ]
  },
  {
   "cell_type": "markdown",
   "id": "30dfa5d1",
   "metadata": {},
   "source": [
    "**Output**"
   ]
  },
  {
   "cell_type": "code",
   "execution_count": null,
   "id": "6cb53007",
   "metadata": {},
   "outputs": [],
   "source": [
    "80"
   ]
  },
  {
   "cell_type": "markdown",
   "id": "8197abc9",
   "metadata": {},
   "source": [
    "**Your code**"
   ]
  },
  {
   "cell_type": "code",
   "execution_count": 26,
   "id": "8eb515ce",
   "metadata": {},
   "outputs": [
    {
     "name": "stdout",
     "output_type": "stream",
     "text": [
      "80\n"
     ]
    }
   ],
   "source": [
    "sampleDict = { \n",
    "   \"class\":{ \n",
    "      \"student\":{ \n",
    "         \"name\":\"Mike\",\n",
    "         \"marks\":{ \n",
    "            \"physics\":70,\n",
    "            \"history\":80\n",
    "         }\n",
    "      }\n",
    "   }\n",
    "}\n",
    "# code below this line\n",
    "print(sampleDict[\"class\"][\"student\"][\"marks\"][\"history\"])\n",
    "# code above this line"
   ]
  },
  {
   "cell_type": "markdown",
   "id": "f453f86a",
   "metadata": {},
   "source": [
    "## Bài 4: Delete set of keys from a dictionary\n",
    "Hãy xóa các key có trong set dưới đây ra khỏi dictionary."
   ]
  },
  {
   "cell_type": "markdown",
   "id": "ccd72d21",
   "metadata": {},
   "source": [
    "**Input**"
   ]
  },
  {
   "cell_type": "code",
   "execution_count": null,
   "id": "3726146b",
   "metadata": {},
   "outputs": [],
   "source": [
    "sampleDict = {\n",
    "  \"name\": \"Kelly\",\n",
    "  \"age\":25,\n",
    "  \"salary\": 8000,\n",
    "  \"city\": \"New york\"\n",
    "  \n",
    "}\n",
    "keysToRemove = {\"name\", \"salary\"}"
   ]
  },
  {
   "cell_type": "markdown",
   "id": "70d327b6",
   "metadata": {},
   "source": [
    "**Output:**"
   ]
  },
  {
   "cell_type": "code",
   "execution_count": null,
   "id": "ebba0549",
   "metadata": {},
   "outputs": [],
   "source": [
    "{'city': 'New york', 'age': 25}"
   ]
  },
  {
   "cell_type": "markdown",
   "id": "8c1f8fac",
   "metadata": {},
   "source": [
    "**Your code**"
   ]
  },
  {
   "cell_type": "code",
   "execution_count": 36,
   "id": "4bada72e",
   "metadata": {},
   "outputs": [
    {
     "name": "stdout",
     "output_type": "stream",
     "text": [
      "{'age': 25, 'city': 'New york'}\n"
     ]
    }
   ],
   "source": [
    "sampleDict = {\n",
    "  \"name\": \"Kelly\",\n",
    "  \"age\":25,\n",
    "  \"salary\": 8000,\n",
    "  \"city\": \"New york\"\n",
    "  \n",
    "}\n",
    "keysToRemove = {\"name\", \"salary\"}\n",
    "# code below this line\n",
    "#lặp key trong key to remove\n",
    "for key in keysToRemove:\n",
    "    #thực hiện xoá phần tử tại key trong sampleDict\n",
    "    sampleDict.pop(key)\n",
    "print(sampleDict)\n",
    "# code above this line"
   ]
  },
  {
   "cell_type": "markdown",
   "id": "825df3a4",
   "metadata": {},
   "source": [
    "## Bài 5: Check if a value 200 exists in a dictionary\n",
    "Hãy kiểm tra xem số 200 có phải là value của dictionary dưới đây không nhé."
   ]
  },
  {
   "cell_type": "markdown",
   "id": "d71b7c57",
   "metadata": {},
   "source": [
    "**Input**"
   ]
  },
  {
   "cell_type": "code",
   "execution_count": null,
   "id": "fd74786b",
   "metadata": {},
   "outputs": [],
   "source": [
    "sampleDict = {'a': 100, 'b': 200, 'c': 300}"
   ]
  },
  {
   "cell_type": "markdown",
   "id": "b400a794",
   "metadata": {},
   "source": [
    "**Output**"
   ]
  },
  {
   "cell_type": "code",
   "execution_count": null,
   "id": "ee5c840b",
   "metadata": {},
   "outputs": [],
   "source": [
    "True"
   ]
  },
  {
   "cell_type": "markdown",
   "id": "0d2982b3",
   "metadata": {},
   "source": [
    "**Your code**"
   ]
  },
  {
   "cell_type": "code",
   "execution_count": 38,
   "id": "6f8eea2e",
   "metadata": {},
   "outputs": [
    {
     "name": "stdout",
     "output_type": "stream",
     "text": [
      "True\n"
     ]
    }
   ],
   "source": [
    "sampleDict = {'a': 100, 'b': 200, 'c': 300}\n",
    "# code below this line\n",
    "#lặp lấy value trong sanmpleDict\n",
    "for value in sampleDict.values():\n",
    "    #kiểm tra lần lượt value nếu có value = 200 thì in ra true\n",
    "    if value == 200:\n",
    "        print(\"True\")\n",
    "# code above this line"
   ]
  },
  {
   "cell_type": "markdown",
   "id": "52558464",
   "metadata": {},
   "source": [
    "## Bài 6: rename key\n",
    "Hãy thay thế key `city` thành `location` trong dictionary dưới đây."
   ]
  },
  {
   "cell_type": "markdown",
   "id": "6f826d64",
   "metadata": {},
   "source": [
    "**Input**"
   ]
  },
  {
   "cell_type": "code",
   "execution_count": null,
   "id": "7083a37c",
   "metadata": {},
   "outputs": [],
   "source": [
    "sampleDict = {\n",
    "  \"name\": \"Kelly\",\n",
    "  \"age\":25,\n",
    "  \"salary\": 8000,\n",
    "  \"city\": \"New york\"\n",
    "}"
   ]
  },
  {
   "cell_type": "markdown",
   "id": "8d6c0b83",
   "metadata": {},
   "source": [
    "**Output**"
   ]
  },
  {
   "cell_type": "code",
   "execution_count": null,
   "id": "4e790a02",
   "metadata": {},
   "outputs": [],
   "source": [
    "{\n",
    "  \"name\": \"Kelly\",\n",
    "  \"age\":25,\n",
    "  \"salary\": 8000,\n",
    "  \"location\": \"New york\"\n",
    "}"
   ]
  },
  {
   "cell_type": "markdown",
   "id": "eddb6c6e",
   "metadata": {},
   "source": [
    "**Your code**"
   ]
  },
  {
   "cell_type": "code",
   "execution_count": 9,
   "id": "9b8d4901",
   "metadata": {},
   "outputs": [
    {
     "name": "stdout",
     "output_type": "stream",
     "text": [
      "name\tKelly\n",
      "age\t25\n",
      "salary\t8000\n",
      "Location\tNew york\n"
     ]
    }
   ],
   "source": [
    "sampleDict = {\n",
    "  \"name\": \"Kelly\",\n",
    "  \"age\":25,\n",
    "  \"salary\": 8000,\n",
    "  \"city\": \"New york\"\n",
    "}\n",
    "# code below this line\n",
    "#xoá key city\n",
    "sampleDict.pop(\"city\")\n",
    "#thêm key location\n",
    "sampleDict[\"Location\"] = \"New york\"\n",
    "print(sampleDict)\n",
    "# code above this line"
   ]
  },
  {
   "cell_type": "markdown",
   "id": "8abc17f9",
   "metadata": {},
   "source": [
    "## Bài 7: key of minimum value\n",
    "Hãy in ra key chứa value nhỏ nhất trong dictionary dưới đây."
   ]
  },
  {
   "cell_type": "markdown",
   "id": "cb274e64",
   "metadata": {},
   "source": [
    "**Input**"
   ]
  },
  {
   "cell_type": "code",
   "execution_count": null,
   "id": "77ddb0d6",
   "metadata": {},
   "outputs": [],
   "source": [
    "sampleDict = {\n",
    "  'Physics': 82,\n",
    "  'Math': 65,\n",
    "  'history': 75\n",
    "}"
   ]
  },
  {
   "cell_type": "markdown",
   "id": "668f2a96",
   "metadata": {},
   "source": [
    "**Output**"
   ]
  },
  {
   "cell_type": "code",
   "execution_count": null,
   "id": "f8ebb7a8",
   "metadata": {},
   "outputs": [],
   "source": [
    "Math"
   ]
  },
  {
   "cell_type": "markdown",
   "id": "804d5a40",
   "metadata": {},
   "source": [
    "**Your code**"
   ]
  },
  {
   "cell_type": "code",
   "execution_count": 1,
   "id": "7c7e8f20",
   "metadata": {},
   "outputs": [
    {
     "name": "stdout",
     "output_type": "stream",
     "text": [
      "Math\n"
     ]
    }
   ],
   "source": [
    "sampleDict = {\n",
    "  'Physics': 82,\n",
    "  'Math': 65,\n",
    "  'history': 75\n",
    "}\n",
    "# code below this line\n",
    "#đặt tạm giá trị nhỏ nhất bằng key đầu tiên trong sampleDict\n",
    "minValue = sampleDict[\"Physics\"]\n",
    "#lặp key trong sampleDict \n",
    "for key in sampleDict.keys():\n",
    "    #Ktra nếu value tại key nhỏ hơn minValue thì minValue = sampleDict\n",
    "    if sampleDict[key] < minValue:\n",
    "        minValue = sampleDict[key]\n",
    "        #in ra key\n",
    "        print(key)\n",
    "# code above this line"
   ]
  },
  {
   "cell_type": "markdown",
   "id": "a4da8a8c",
   "metadata": {},
   "source": [
    "## Bài 8: new salary\n",
    "Hãy tăng lương(`salary`) cho Brad từ 6500 lên 8500 trong dictionary dưới đây nhé."
   ]
  },
  {
   "cell_type": "markdown",
   "id": "de769b5c",
   "metadata": {},
   "source": [
    "**Input**"
   ]
  },
  {
   "cell_type": "code",
   "execution_count": null,
   "id": "45d15b4f",
   "metadata": {},
   "outputs": [],
   "source": [
    "sampleDict = {\n",
    "     'emp1': {'name': 'Jhon', 'salary': 7500},\n",
    "     'emp2': {'name': 'Emma', 'salary': 8000},\n",
    "     'emp3': {'name': 'Brad', 'salary': 6500}\n",
    "}"
   ]
  },
  {
   "cell_type": "markdown",
   "id": "6fa3f5d2",
   "metadata": {},
   "source": [
    "**Output**"
   ]
  },
  {
   "cell_type": "code",
   "execution_count": null,
   "id": "67553b73",
   "metadata": {},
   "outputs": [],
   "source": [
    "sampleDict = {\n",
    "     'emp1': {'name': 'Jhon', 'salary': 7500},\n",
    "     'emp2': {'name': 'Emma', 'salary': 8000},\n",
    "     'emp3': {'name': 'Brad', 'salary': 8500}\n",
    "}"
   ]
  },
  {
   "cell_type": "markdown",
   "id": "91d6f922",
   "metadata": {},
   "source": [
    "**Your code**"
   ]
  },
  {
   "cell_type": "code",
   "execution_count": 7,
   "id": "151cbe47",
   "metadata": {},
   "outputs": [
    {
     "name": "stdout",
     "output_type": "stream",
     "text": [
      "emp1\t{'name': 'Jhon', 'salary': 7500}\n",
      "emp2\t{'name': 'Emma', 'salary': 8000}\n",
      "emp3\t{'name': 'Brad', 'salary': 8500}\n"
     ]
    }
   ],
   "source": [
    "sampleDict = {\n",
    "     'emp1': {'name': 'Jhon', 'salary': 7500},\n",
    "     'emp2': {'name': 'Emma', 'salary': 8000},\n",
    "     'emp3': {'name': 'Brad', 'salary': 6500}\n",
    "}\n",
    "# code below this line\n",
    "# sampleDict[\"emp3\"][\"salary\"] = 8500\n",
    "#lặp lấy key trong sampleDict\n",
    "for key in sampleDict.keys():\n",
    "    #Ktra nếu value của key \"name\" lòng bên trong của sampleDict tại key (emp1,emp2,emp3) là Brad\n",
    "    if sampleDict[key][\"name\"] == \"Brad\":\n",
    "        #gán giá trị mới cho key \"salary\" lòng bên trong của sampleDict tại key(emp3) là 8500\n",
    "        sampleDict[key][\"salary\"] = 8500\n",
    "        \n",
    "print(\"\\n\".join(\"{}\\t{}\".format(k, v) for k, v in sampleDict.items()))\n",
    "# code above this line"
   ]
  }
 ],
 "metadata": {
  "kernelspec": {
   "display_name": "Python 3 (ipykernel)",
   "language": "python",
   "name": "python3"
  },
  "language_info": {
   "codemirror_mode": {
    "name": "ipython",
    "version": 3
   },
   "file_extension": ".py",
   "mimetype": "text/x-python",
   "name": "python",
   "nbconvert_exporter": "python",
   "pygments_lexer": "ipython3",
   "version": "3.11.1"
  }
 },
 "nbformat": 4,
 "nbformat_minor": 5
}
