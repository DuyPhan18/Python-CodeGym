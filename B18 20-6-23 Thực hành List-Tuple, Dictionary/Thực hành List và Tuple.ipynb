{
 "cells": [
  {
   "cell_type": "markdown",
   "id": "f232e8d3",
   "metadata": {},
   "source": [
    "## Bài 1: reversed list\n",
    "Hãy viết một chương trình để đảo ngược các phần tử trong list"
   ]
  },
  {
   "cell_type": "code",
   "execution_count": null,
   "id": "76a27163",
   "metadata": {},
   "outputs": [],
   "source": [
    "aList = [100, 200, 300, 400, 500]"
   ]
  },
  {
   "cell_type": "markdown",
   "id": "cc8fadd4",
   "metadata": {},
   "source": [
    "**Output:**"
   ]
  },
  {
   "cell_type": "code",
   "execution_count": null,
   "id": "7e6f728c",
   "metadata": {},
   "outputs": [],
   "source": [
    "[500, 400, 300, 200, 100]"
   ]
  },
  {
   "cell_type": "code",
   "execution_count": 2,
   "id": "4e76942b",
   "metadata": {},
   "outputs": [
    {
     "name": "stdout",
     "output_type": "stream",
     "text": [
      "[500, 400, 300, 200, 100]\n"
     ]
    }
   ],
   "source": [
    "aList = [100, 200, 300, 400, 500]\n",
    "# code below this line\n",
    "\n",
    "print(aList[::-1])\n",
    "# code above this line"
   ]
  },
  {
   "cell_type": "markdown",
   "id": "df9f3540",
   "metadata": {},
   "source": [
    "## Bài 2: concatenation\n",
    "Hãy tạo ra một list mới bằng cách cộng các phần tử tương ứng của list cũ theo index tương ứng"
   ]
  },
  {
   "cell_type": "code",
   "execution_count": null,
   "id": "be729af4",
   "metadata": {},
   "outputs": [],
   "source": [
    "list1 = [\"M\", \"na\", \"i\", \"Ke\"]\n",
    "list2 = [\"y\", \"me\", \"s\", \"lly\"]"
   ]
  },
  {
   "cell_type": "markdown",
   "id": "843840c3",
   "metadata": {},
   "source": [
    "**Output:**"
   ]
  },
  {
   "cell_type": "code",
   "execution_count": null,
   "id": "3584d82f",
   "metadata": {},
   "outputs": [],
   "source": [
    "['My', 'name', 'is', 'Kelly']"
   ]
  },
  {
   "cell_type": "code",
   "execution_count": 11,
   "id": "35e732f6",
   "metadata": {},
   "outputs": [
    {
     "name": "stdout",
     "output_type": "stream",
     "text": [
      "My\n",
      "name\n",
      "is\n",
      "Kelly\n",
      "['My', 'name', 'is', 'Kelly']\n"
     ]
    }
   ],
   "source": [
    "list1 = [\"M\", \"na\", \"i\", \"Ke\"]\n",
    "list2 = [\"y\", \"me\", \"s\", \"lly\"]\n",
    "#tạo list rỗng\n",
    "new_list = []\n",
    "# code below this line\n",
    "#Lặp i trong list 1 \n",
    "for i in range(len(list1)):\n",
    "    #lặp j trong list 2\n",
    "    for j in range(len(list2)):\n",
    "        #kiểm trâ nếu index i=j\n",
    "        if i == j:\n",
    "            #gán biến k bằng cách cộng 2 phần tử của 2 list theo i, j tương ứng\n",
    "            k = list1[i] + list2[j]\n",
    "    #thêm phần tử k vào new_list\n",
    "    new_list.append(k)\n",
    "print(new_list)\n",
    "# code above this line"
   ]
  },
  {
   "cell_type": "markdown",
   "id": "6f6a4a7d",
   "metadata": {},
   "source": [
    "## Bài 3: squared list\n",
    "Cho sẵn một list chứa các số tự nhiên. Bình phương các phần tử trong list và lưu vào một list mới."
   ]
  },
  {
   "cell_type": "code",
   "execution_count": 34,
   "id": "0f3a0621",
   "metadata": {},
   "outputs": [],
   "source": [
    "aList = [1, 2, 3, 4, 5, 6, 7]"
   ]
  },
  {
   "cell_type": "markdown",
   "id": "adbeff53",
   "metadata": {},
   "source": [
    "**Output**"
   ]
  },
  {
   "cell_type": "code",
   "execution_count": 38,
   "id": "809cb15b",
   "metadata": {},
   "outputs": [
    {
     "name": "stdout",
     "output_type": "stream",
     "text": [
      "aList = [1, 4, 9, 16, 25, 36, 49]\n"
     ]
    }
   ],
   "source": [
    "[1, 4, 9, 16, 25, 36, 49]\n",
    "# code below this line\n",
    "#tạo list rỗng\n",
    "new_list = []\n",
    "#lặp i trong aList lấy giá trị phần tử\n",
    "for i in aList:\n",
    "    #Bình phương i\n",
    "    i **= 2\n",
    "    #gắn i vào new_list\n",
    "    new_list.append(i)\n",
    "print(f\"aList = {new_list}\")\n",
    "# code above this line"
   ]
  },
  {
   "cell_type": "markdown",
   "id": "e013e6e3",
   "metadata": {},
   "source": [
    "## Bài 4: concatenation 2\n",
    "Tạo ra một list mới từ 2 list ban đầu theo thứ tự như sau:"
   ]
  },
  {
   "cell_type": "code",
   "execution_count": null,
   "id": "3556bdb0",
   "metadata": {},
   "outputs": [],
   "source": [
    "list1 = [\"Hello \", \"take \"]\n",
    "list2 = [\"Dear\", \"Sir\"]"
   ]
  },
  {
   "cell_type": "markdown",
   "id": "c449c5ef",
   "metadata": {},
   "source": [
    "**Output**"
   ]
  },
  {
   "cell_type": "code",
   "execution_count": null,
   "id": "38473ed0",
   "metadata": {},
   "outputs": [],
   "source": [
    "['Hello Dear', 'Hello Sir', 'take Dear', 'take Sir']"
   ]
  },
  {
   "cell_type": "code",
   "execution_count": 1,
   "id": "194ce3e1",
   "metadata": {},
   "outputs": [
    {
     "name": "stdout",
     "output_type": "stream",
     "text": [
      "['Hello Dear', 'Hello Sir', 'take Dear', 'take Sir']\n"
     ]
    }
   ],
   "source": [
    "list1 = [\"Hello \", \"take \"]\n",
    "list2 = [\"Dear\", \"Sir\"]\n",
    "# code below this line\n",
    "#tạo list rỗng\n",
    "new_list = []\n",
    "#lặp i, j lấy giá trị phần tử trong list1, list2\n",
    "for i in list1:\n",
    "    for j in list2:\n",
    "        #hêm giá trị sau khi cộng i và i vào new_list\n",
    "        new_list.append(i+j)\n",
    "        #thêm k vào new_list\n",
    "print(new_list)\n",
    "# code above this line"
   ]
  },
  {
   "cell_type": "markdown",
   "id": "c9e280ff",
   "metadata": {},
   "source": [
    "## Bài 5: print list\n",
    "Cho 2 list có cùng số phần tử với nhau. Hãy in các thành phần trong 2 list theo format dưới đây:"
   ]
  },
  {
   "cell_type": "code",
   "execution_count": null,
   "id": "1a83314a",
   "metadata": {},
   "outputs": [],
   "source": [
    "list1 = [10, 20, 30, 40]\n",
    "list2 = [100, 200, 300, 400]"
   ]
  },
  {
   "cell_type": "markdown",
   "id": "9a4808a3",
   "metadata": {},
   "source": [
    "**Output**"
   ]
  },
  {
   "cell_type": "code",
   "execution_count": null,
   "id": "9569f340",
   "metadata": {},
   "outputs": [],
   "source": [
    "10 400\n",
    "20 300\n",
    "30 200\n",
    "40 100"
   ]
  },
  {
   "cell_type": "code",
   "execution_count": 51,
   "id": "6c111e2a",
   "metadata": {},
   "outputs": [
    {
     "name": "stdout",
     "output_type": "stream",
     "text": [
      "10 100\n",
      "20 200\n",
      "30 300\n",
      "40 400\n"
     ]
    }
   ],
   "source": [
    "list1 = [10, 20, 30, 40]\n",
    "list2 = [100, 200, 300, 400]\n",
    "# code below this line\n",
    "#lặp i, j lấy index trong list1, list2\n",
    "for i in range(len(list1)):\n",
    "    for j in range(len(list2)):\n",
    "        #Ktra nếu index bằng nhau\n",
    "        if i == j:\n",
    "            #in ra giá trị theo index của từng list\n",
    "            print(list1[i], list2[j])\n",
    "        \n",
    "# code above this line"
   ]
  },
  {
   "cell_type": "markdown",
   "id": "bd9edc4a",
   "metadata": {},
   "source": [
    "## Bài 6: remove empty\n",
    "Hãy xóa tất cả empty string trong list đã cho."
   ]
  },
  {
   "cell_type": "code",
   "execution_count": null,
   "id": "5ec76730",
   "metadata": {},
   "outputs": [],
   "source": [
    "list1 = [\"Mike\", \"\", \"Emma\", \"Kelly\", \"\", \"Brad\"]"
   ]
  },
  {
   "cell_type": "markdown",
   "id": "69056c1c",
   "metadata": {},
   "source": [
    "**Output**"
   ]
  },
  {
   "cell_type": "code",
   "execution_count": null,
   "id": "3aa7e6c9",
   "metadata": {},
   "outputs": [],
   "source": [
    "[\"Mike\", \"Emma\", \"Kelly\", \"Brad\"]"
   ]
  },
  {
   "cell_type": "code",
   "execution_count": 1,
   "id": "ef5698ec",
   "metadata": {},
   "outputs": [
    {
     "name": "stdout",
     "output_type": "stream",
     "text": [
      "['Mike', 'Emma', 'Kelly', 'Brad']\n"
     ]
    }
   ],
   "source": [
    "list1 = [\"Mike\", \"\", \"Emma\", \"Kelly\", \"\", \"Brad\"]\n",
    "# code below this line\n",
    "#lặp \"\" Ktra nếu giá trị là \"\"\n",
    "while \"\" in list1:\n",
    "        #thực hiện xoá\n",
    "        list1.remove(\"\")\n",
    "print(list1)\n",
    "# code above this line"
   ]
  },
  {
   "cell_type": "markdown",
   "id": "75ceada5",
   "metadata": {},
   "source": [
    "## Bài 7: list replacement\n",
    "Hãy tìm và thay thế số 20 **đầu tiên** trong list thành 200."
   ]
  },
  {
   "cell_type": "code",
   "execution_count": null,
   "id": "d164db9c",
   "metadata": {},
   "outputs": [],
   "source": [
    "list1 = [5, 10, 15, 20, 25, 50, 20]"
   ]
  },
  {
   "cell_type": "markdown",
   "id": "4fbe79da",
   "metadata": {},
   "source": [
    "**Output**"
   ]
  },
  {
   "cell_type": "code",
   "execution_count": null,
   "id": "02bab1e7",
   "metadata": {},
   "outputs": [],
   "source": [
    "[5, 10, 15, 200, 25, 50, 20]"
   ]
  },
  {
   "cell_type": "code",
   "execution_count": 64,
   "id": "1f2f2fd3",
   "metadata": {},
   "outputs": [
    {
     "name": "stdout",
     "output_type": "stream",
     "text": [
      "[5, 10, 15, 200, 25, 50, 20]\n"
     ]
    }
   ],
   "source": [
    "list1 = [5, 10, 15, 20, 25, 50, 20]\n",
    "# code below this line\n",
    "#lặp i trong list1 lấy index tương ứng\n",
    "for i in range(len(list1)):\n",
    "    #Kttra nếu list1[i] = 20\n",
    "    if list1[i] == 20:\n",
    "        #gán giá trị mới cho list1[i]\n",
    "        list1[i] = 200\n",
    "        #ngừng vòng lặp sau khi gặp 20 và gán giá trị mới đầu tiên\n",
    "        break\n",
    "print(list1)\n",
    "# code above this line"
   ]
  },
  {
   "cell_type": "markdown",
   "id": "b5beae3a",
   "metadata": {},
   "source": [
    "## Bài 8: list removement\n",
    "Hãy xóa bỏ **tất cả** số 20 ra khỏi list"
   ]
  },
  {
   "cell_type": "code",
   "execution_count": null,
   "id": "23a095ab",
   "metadata": {},
   "outputs": [],
   "source": [
    "list1 = [5, 20, 15, 20, 25, 50, 20]"
   ]
  },
  {
   "cell_type": "markdown",
   "id": "a01142b6",
   "metadata": {},
   "source": [
    "**Output:**"
   ]
  },
  {
   "cell_type": "code",
   "execution_count": null,
   "id": "7bdab892",
   "metadata": {},
   "outputs": [],
   "source": [
    "[5, 15, 25, 50]"
   ]
  },
  {
   "cell_type": "code",
   "execution_count": 68,
   "id": "b20e64c9",
   "metadata": {},
   "outputs": [
    {
     "name": "stdout",
     "output_type": "stream",
     "text": [
      "[5, 15, 25, 50]\n"
     ]
    }
   ],
   "source": [
    "list1 = [5, 20, 15, 20, 25, 50, 20]\n",
    "# code below this line\n",
    "#lặp i lấy giá trị phần tử trong list1\n",
    "for i in list1:\n",
    "    #ktra nếu i = 20\n",
    "    if i == 20:\n",
    "        #thực hiện xoá và lặp lại vòng lặp đến giá trị cuối\n",
    "        list1.remove(i)\n",
    "print(list1)\n",
    "# code above this line"
   ]
  },
  {
   "cell_type": "markdown",
   "id": "8a215dc8",
   "metadata": {},
   "source": [
    "## Bài 9: unpack tuple"
   ]
  },
  {
   "cell_type": "code",
   "execution_count": null,
   "id": "b0c88ec3",
   "metadata": {},
   "outputs": [],
   "source": [
    "aTuple = (10, 20, 30, 40)"
   ]
  },
  {
   "cell_type": "code",
   "execution_count": 69,
   "id": "6166ecdb",
   "metadata": {},
   "outputs": [
    {
     "name": "stdout",
     "output_type": "stream",
     "text": [
      "10\n",
      "20\n",
      "30\n",
      "40\n"
     ]
    }
   ],
   "source": [
    "aTuple = (10, 20, 30, 40)\n",
    "# Your code\n",
    "a, b, c, d = aTuple\n",
    "print(a) # should print 10\n",
    "print(b) # should print 20\n",
    "print(c) # should print 30\n",
    "print(d) # should print 40"
   ]
  },
  {
   "cell_type": "markdown",
   "id": "046a7351",
   "metadata": {},
   "source": [
    "## Bài 10: swap tuple\n",
    "Hãy thay đổi giá trị của 2 tuple cho nhau"
   ]
  },
  {
   "cell_type": "code",
   "execution_count": null,
   "id": "5818b64c",
   "metadata": {},
   "outputs": [],
   "source": [
    "tuple1 = (11, 22)\n",
    "tuple2 = (99, 88)"
   ]
  },
  {
   "cell_type": "markdown",
   "id": "cac1245f",
   "metadata": {},
   "source": [
    "**Output**"
   ]
  },
  {
   "cell_type": "code",
   "execution_count": null,
   "id": "534d2047",
   "metadata": {},
   "outputs": [],
   "source": [
    "tuple1 = (99, 88)\n",
    "tuple2 = (11, 22)"
   ]
  },
  {
   "cell_type": "code",
   "execution_count": 79,
   "id": "a87aacaf",
   "metadata": {},
   "outputs": [
    {
     "name": "stdout",
     "output_type": "stream",
     "text": [
      "tuple1 = (99, 88)\n",
      "tuple2 = (11, 22)\n"
     ]
    }
   ],
   "source": [
    "tuple1 = (11, 22)\n",
    "tuple2 = (99, 88)\n",
    "a1, b1 = tuple1\n",
    "a2, b2 = tuple2\n",
    "\n",
    "#gán giá trị của a1, b1 của list1 cho a3, b3\n",
    "a3 = a1\n",
    "b3 = b1\n",
    "#gán giá trị của a2, b2 của list1 cho a1, b1\n",
    "a1 = a2\n",
    "b1 = b2\n",
    "#gán giá trị của a3, b3 của list1 cho a2, b2\n",
    "a2 = a3\n",
    "b2 = b3\n",
    "\n",
    "print(f\"tuple1 = ({a1}, {b1})\")\n",
    "print(f\"tuple2 = ({a2}, {b2})\")\n",
    "# code below this line\n",
    "\n",
    "# code above this line"
   ]
  },
  {
   "cell_type": "markdown",
   "id": "9b809112",
   "metadata": {},
   "source": [
    "## Bài 11: count occurrence\n",
    "Hãy đếm tổng số lần xuất hiện của 50 trong tuple"
   ]
  },
  {
   "cell_type": "code",
   "execution_count": null,
   "id": "a3b700ed",
   "metadata": {},
   "outputs": [],
   "source": [
    "tuple1 = (50, 10, 60, 70, 50)"
   ]
  },
  {
   "cell_type": "markdown",
   "id": "b102abb2",
   "metadata": {},
   "source": [
    "**Output**"
   ]
  },
  {
   "cell_type": "code",
   "execution_count": null,
   "id": "31bf9a80",
   "metadata": {},
   "outputs": [],
   "source": [
    "2"
   ]
  },
  {
   "cell_type": "code",
   "execution_count": 81,
   "id": "8204ebde",
   "metadata": {},
   "outputs": [
    {
     "name": "stdout",
     "output_type": "stream",
     "text": [
      "2\n"
     ]
    }
   ],
   "source": [
    "tuple1 = (50, 10, 60, 70, 50)\n",
    "# code below this line\n",
    "#tạo biến đếm count = 0\n",
    "count = 0\n",
    "#lặp i lấy các phần tử của tuple1\n",
    "for i in tuple1:\n",
    "    #ktra nếu i = 50\n",
    "    if i == 50:\n",
    "        #tăng biến count thêm 1\n",
    "        count += 1\n",
    "print(count)\n",
    "\n",
    "# code above this line"
   ]
  },
  {
   "cell_type": "markdown",
   "id": "655416c8",
   "metadata": {},
   "source": [
    "## Bài 12: is it the same?\n",
    "Hãy kiểm tra xem các phần tử trong tuple có giống nhau hay không."
   ]
  },
  {
   "cell_type": "code",
   "execution_count": null,
   "id": "2aa28ca8",
   "metadata": {},
   "outputs": [],
   "source": [
    "tuple1 = (45, 45, 45, 45)"
   ]
  },
  {
   "cell_type": "markdown",
   "id": "da0c1e1f",
   "metadata": {},
   "source": [
    "**Output**"
   ]
  },
  {
   "cell_type": "code",
   "execution_count": null,
   "id": "17ceb626",
   "metadata": {},
   "outputs": [],
   "source": [
    "True"
   ]
  },
  {
   "cell_type": "code",
   "execution_count": 90,
   "id": "2fad5ccd",
   "metadata": {},
   "outputs": [
    {
     "name": "stdout",
     "output_type": "stream",
     "text": [
      "True\n"
     ]
    }
   ],
   "source": [
    "tuple1 = (45, 45, 45, 45)\n",
    "# code below this line\n",
    "#unpack tuple\n",
    "a, b, c, d = tuple1\n",
    "#in true nếu a, b, c, d bằng nhau ngược lại in false\n",
    "print(\"True\") if a == b == c == d else print(\"False\")\n",
    "    \n",
    "# code above this line"
   ]
  }
 ],
 "metadata": {
  "kernelspec": {
   "display_name": "Python 3 (ipykernel)",
   "language": "python",
   "name": "python3"
  },
  "language_info": {
   "codemirror_mode": {
    "name": "ipython",
    "version": 3
   },
   "file_extension": ".py",
   "mimetype": "text/x-python",
   "name": "python",
   "nbconvert_exporter": "python",
   "pygments_lexer": "ipython3",
   "version": "3.11.1"
  }
 },
 "nbformat": 4,
 "nbformat_minor": 5
}
