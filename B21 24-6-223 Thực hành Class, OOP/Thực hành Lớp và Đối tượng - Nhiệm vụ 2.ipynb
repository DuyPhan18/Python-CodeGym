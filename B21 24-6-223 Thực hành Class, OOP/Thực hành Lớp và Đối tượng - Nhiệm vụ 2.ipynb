{
 "cells": [
  {
   "cell_type": "code",
   "execution_count": null,
   "id": "1b7705b3",
   "metadata": {},
   "outputs": [],
   "source": [
    "\"\"\"\n",
    "Viết class NhanVien gồm các thuộc tính:\n",
    "+ Tên\n",
    "+ Tuổi\n",
    "+ Địa chỉ\n",
    "+ Tiền lương\n",
    "+ Tổng số giờ làm\n",
    "\n",
    "Và các phương thức:\n",
    "- Phương thức tạo\n",
    "- tinh_thuong(): Tính toán và trả về số tiền thưởng của nhân viên theo công thức sau:\n",
    "Nếu tổng số giờ làm của nhân viên >=200 thì thưởng = lương * 20%\n",
    "Nếu tổng số giờ làm của nhân viên <200 và >=100 thì thưởng = lương * 10%\n",
    "Nếu tổng số giờ làm của nhân viên <100 thì thưởng = 0\n",
    "- print_info() : In ra tất cả các thông tin cá nhân và tiền thưởng của nhân viên\n",
    "\n",
    "Tiến hành tạo ra hai đối tượng NhanVien và in ra thông tin tương ứng\n",
    "\"\"\""
   ]
  },
  {
   "cell_type": "code",
   "execution_count": 7,
   "id": "3cf0f41d",
   "metadata": {},
   "outputs": [
    {
     "name": "stdout",
     "output_type": "stream",
     "text": [
      "Name: Nguyen Văn A\n",
      "Age: 29\n",
      "Address: HCM\n",
      "Salary: 1200\n",
      "Work hours: 400\n",
      "Thưởng: 240\n"
     ]
    }
   ],
   "source": [
    "class NhanVien:\n",
    "    def __init__(self, name, age, address, salary, work_hours):\n",
    "        self.name = name\n",
    "        self.age = age\n",
    "        self.address = address\n",
    "        self.salary = salary\n",
    "        self.work_hours = work_hours\n",
    "    def tinh_thuong(self):\n",
    "        if self.work_hours >= 200:\n",
    "            return self.salary * 20 // 100\n",
    "        elif self.work_hours >= 100:\n",
    "            return self.salary * 10 // 100\n",
    "        else:\n",
    "            return self.salaray\n",
    "    def print_info(self):\n",
    "        print(f\"Name: {self.name}\")\n",
    "        print(f\"Age: {self.age}\")        \n",
    "        print(f\"Address: {self.address}\")        \n",
    "        print(f\"Salary: {self.salary}\")   \n",
    "        print(f\"Work hours: {self.work_hours}\")\n",
    "\n",
    "emp1 = NhanVien(\"Nguyen Văn A\", 29, \"HCM\", 1200, 400)\n",
    "emp1.print_info()\n",
    "print(f\"Thưởng: {emp1.tinh_thuong()}\")\n"
   ]
  }
 ],
 "metadata": {
  "kernelspec": {
   "display_name": "Python 3 (ipykernel)",
   "language": "python",
   "name": "python3"
  },
  "language_info": {
   "codemirror_mode": {
    "name": "ipython",
    "version": 3
   },
   "file_extension": ".py",
   "mimetype": "text/x-python",
   "name": "python",
   "nbconvert_exporter": "python",
   "pygments_lexer": "ipython3",
   "version": "3.11.1"
  }
 },
 "nbformat": 4,
 "nbformat_minor": 5
}
