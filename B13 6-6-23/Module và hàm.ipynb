{
 "cells": [
  {
   "cell_type": "markdown",
   "id": "05948314",
   "metadata": {},
   "source": [
    "# Function"
   ]
  },
  {
   "cell_type": "markdown",
   "id": "3b68247e",
   "metadata": {},
   "source": [
    "## Function(hàm) là gì?"
   ]
  },
  {
   "cell_type": "markdown",
   "id": "cf84a685",
   "metadata": {},
   "source": [
    "Hàm (function) là một khối lệnh đặc biệt, nó được đặt tên, giúp mã chương trình dễ đọc hơn, và có thể gọi để sử dụng ở các nơi khác nhau trong chương trình. Hàm chính là khối lệnh có thể tái sử dụng (reuseable)."
   ]
  },
  {
   "cell_type": "markdown",
   "id": "3636c8b1",
   "metadata": {},
   "source": [
    "### Hàm\n",
    "\n",
    "Cú pháp:\n",
    "\n",
    "`def <tên hàm>(<tham số>):\n",
    "    //Nội dung hàm`\n",
    "\n",
    "Gọi hàm:\n",
    "`<tên hàm>(<giá trị đầu vào>)`"
   ]
  },
  {
   "cell_type": "markdown",
   "id": "18f95aa8",
   "metadata": {},
   "source": [
    "### Ví dụ: Hàm in"
   ]
  },
  {
   "cell_type": "code",
   "execution_count": 5,
   "id": "0753ca43",
   "metadata": {},
   "outputs": [],
   "source": [
    "#viết hàm giới thiệu khoá học\n",
    "def print_course_info():\n",
    "    print(\"-------------------------------\")\n",
    "    print(\"- Course: Python Fundamental  -\")\n",
    "    print(\"- Lesson: 13                  -\")\n",
    "    print(\"- Organization: CodeGym Online-\")\n",
    "    print(\"-------------------------------\")"
   ]
  },
  {
   "cell_type": "code",
   "execution_count": 6,
   "id": "6190e58a",
   "metadata": {},
   "outputs": [
    {
     "name": "stdout",
     "output_type": "stream",
     "text": [
      "-------------------------------\n",
      "- Course: Python Fundamental  -\n",
      "- Lesson: 13                  -\n",
      "- Organization: CodeGym Online-\n",
      "-------------------------------\n"
     ]
    }
   ],
   "source": [
    "print_course_info()"
   ]
  },
  {
   "cell_type": "markdown",
   "id": "29c55e2b",
   "metadata": {},
   "source": [
    "### Ví dụ: Hàm tính giá trị tuyệt đối"
   ]
  },
  {
   "cell_type": "code",
   "execution_count": 15,
   "id": "e492700a",
   "metadata": {},
   "outputs": [],
   "source": [
    "# Viết hàm tính giá trị tuyệt đối của biến được input từ người dùng\n",
    "\n",
    "def print_abs():\n",
    "    num = int(input(\"Please input number: \"))\n",
    "    if num >= 0:   \n",
    "        print(f\"Abs value is {num}\")\n",
    "    else:\n",
    "        print(f\"Abs value is {-num}\")"
   ]
  },
  {
   "cell_type": "code",
   "execution_count": 17,
   "id": "b684c7a1",
   "metadata": {},
   "outputs": [
    {
     "name": "stdout",
     "output_type": "stream",
     "text": [
      "Please input number: -2\n",
      "Abs value is 2\n"
     ]
    }
   ],
   "source": [
    "print_abs()"
   ]
  },
  {
   "cell_type": "markdown",
   "id": "07fa617d",
   "metadata": {},
   "source": [
    "### Ví dụ: Hàm vẽ hình tròn"
   ]
  },
  {
   "cell_type": "code",
   "execution_count": null,
   "id": "2a2dec85",
   "metadata": {},
   "outputs": [],
   "source": []
  },
  {
   "cell_type": "markdown",
   "id": "c4575e29",
   "metadata": {},
   "source": [
    "## Xây dựng và sử dụng hàm trong python"
   ]
  },
  {
   "cell_type": "markdown",
   "id": "00ac6720",
   "metadata": {},
   "source": [
    "### Hàm say_hello"
   ]
  },
  {
   "cell_type": "code",
   "execution_count": 23,
   "id": "47575691",
   "metadata": {},
   "outputs": [],
   "source": [
    "# Viết hàm để in ra nội dung\"Hello, my name is ... . I'm studying Python Fundamental\n",
    "\n",
    "def greeting():\n",
    "    name = input(\"Please, input your name: \")\n",
    "    print(f\"Hello, my name is {name} . I'm studying Python Fundamental\")"
   ]
  },
  {
   "cell_type": "code",
   "execution_count": 22,
   "id": "a5c92ffe",
   "metadata": {},
   "outputs": [
    {
     "name": "stdout",
     "output_type": "stream",
     "text": [
      "Please, input your name: Duy\n",
      "Hello, my name is Duy . I'm studying Python Fundamental\n"
     ]
    }
   ],
   "source": [
    "greeting()"
   ]
  },
  {
   "cell_type": "markdown",
   "id": "f9b6f894",
   "metadata": {},
   "source": [
    "### Hàm vẽ cây thông"
   ]
  },
  {
   "cell_type": "code",
   "execution_count": null,
   "id": "0994ceed",
   "metadata": {},
   "outputs": [],
   "source": []
  },
  {
   "attachments": {
    "image.png": {
     "image/png": "[encoded data removed]"
    }
   },
   "cell_type": "markdown",
   "id": "08fa2b6b",
   "metadata": {},
   "source": [
    "### Thực hành: Viết hàm vẽ ra hình ảnh như dưới đây:\n",
    "![image.png](attachment:image.png)"
   ]
  },
  {
   "cell_type": "code",
   "execution_count": null,
   "id": "b3161e2c",
   "metadata": {},
   "outputs": [],
   "source": []
  },
  {
   "cell_type": "markdown",
   "id": "77fa1ef1",
   "metadata": {},
   "source": [
    "## doc_string cho hàm"
   ]
  },
  {
   "cell_type": "code",
   "execution_count": 25,
   "id": "8dcf448b",
   "metadata": {},
   "outputs": [
    {
     "name": "stdout",
     "output_type": "stream",
     "text": [
      "Return the number of items in a container.\n"
     ]
    }
   ],
   "source": [
    "# Hàm tính chu vi hình chữ nhật\n",
    "def calc_perimeter_rectangle():\n",
    "    '''\n",
    "    This func is used to calculate perimeter of rectangle,\n",
    "    Input: lenght, width\n",
    "    Output: perimeter(float)\n",
    "    '''\n",
    "    pass\n",
    "print(len.__doc__)"
   ]
  },
  {
   "cell_type": "code",
   "execution_count": 26,
   "id": "a7dc57e9",
   "metadata": {},
   "outputs": [],
   "source": [
    "# Hàm xếp loại học sinh\n",
    "#tính avg 3 môn toán, văn, anh\n",
    "#cho biết học lực là giỏi(>=6.5) / khá(5 -> 6.5) / tbinh( < 5 )"
   ]
  },
  {
   "cell_type": "code",
   "execution_count": 30,
   "id": "9ce2595f",
   "metadata": {},
   "outputs": [
    {
     "name": "stdout",
     "output_type": "stream",
     "text": [
      "\n",
      "    This function is used to calculate average mark of each student \n",
      "    and classify bases on average mark\n",
      "    Input: Math, Literature, English\n",
      "    Ouput: Student rating\n",
      "    \n"
     ]
    }
   ],
   "source": [
    "def classify():\n",
    "    '''\n",
    "    This function is used to calculate average mark of each student \n",
    "    and classify bases on average mark\n",
    "    Input: Math, Literature, English\n",
    "    Ouput: Student rating\n",
    "    '''\n",
    "    pass\n",
    "print(classify.__doc__)"
   ]
  },
  {
   "cell_type": "code",
   "execution_count": null,
   "id": "7673cf7e",
   "metadata": {},
   "outputs": [],
   "source": []
  },
  {
   "cell_type": "code",
   "execution_count": null,
   "id": "2c304f0b",
   "metadata": {},
   "outputs": [],
   "source": []
  },
  {
   "cell_type": "code",
   "execution_count": null,
   "id": "70127b8b",
   "metadata": {},
   "outputs": [],
   "source": []
  },
  {
   "cell_type": "markdown",
   "id": "0c5f3f35",
   "metadata": {},
   "source": [
    "## Phạm vi biến"
   ]
  },
  {
   "cell_type": "code",
   "execution_count": 31,
   "id": "b332222c",
   "metadata": {},
   "outputs": [
    {
     "name": "stdout",
     "output_type": "stream",
     "text": [
      "15\n"
     ]
    },
    {
     "ename": "NameError",
     "evalue": "name 'n' is not defined",
     "output_type": "error",
     "traceback": [
      "\u001b[1;31m---------------------------------------------------------------------------\u001b[0m",
      "\u001b[1;31mNameError\u001b[0m                                 Traceback (most recent call last)",
      "Cell \u001b[1;32mIn[31], line 10\u001b[0m\n\u001b[0;32m      7\u001b[0m     \u001b[38;5;28mprint\u001b[39m(total)\n\u001b[0;32m      9\u001b[0m calc_sum()\n\u001b[1;32m---> 10\u001b[0m \u001b[38;5;28mprint\u001b[39m(\u001b[43mn\u001b[49m)\n",
      "\u001b[1;31mNameError\u001b[0m: name 'n' is not defined"
     ]
    }
   ],
   "source": [
    "# Hàm tính tổng các số từ 1 đến 10\n",
    "def calc_sum():\n",
    "    total = 0\n",
    "    n = 5\n",
    "    for i in range(n + 1):\n",
    "        total += i\n",
    "    print(total)\n",
    "    \n",
    "calc_sum()\n",
    "print(n)"
   ]
  },
  {
   "cell_type": "markdown",
   "id": "7407e8fe",
   "metadata": {},
   "source": [
    "## Đối số của hàm"
   ]
  },
  {
   "cell_type": "code",
   "execution_count": null,
   "id": "f5787950",
   "metadata": {},
   "outputs": [],
   "source": [
    "# Hàm tính thể tích hình lập phương"
   ]
  },
  {
   "cell_type": "code",
   "execution_count": 32,
   "id": "8d1bc23b",
   "metadata": {},
   "outputs": [],
   "source": [
    "# Hàm xếp loại học sinh\n",
    "#tính avg 3 môn toán, văn, anh\n",
    "#cho biết học lực là giỏi(>=6.5) / khá(5 -> 6.5) / tbinh( < 5 )"
   ]
  },
  {
   "cell_type": "code",
   "execution_count": 47,
   "id": "0131017b",
   "metadata": {},
   "outputs": [],
   "source": [
    "def classify(math, literature, english):\n",
    "    \n",
    "    avg = round((math + literature + english) / 3, 2)\n",
    "    print(f\"Average: {avg}\")\n",
    "    \n",
    "    if avg >= 6.5: \n",
    "        print(\"Học sinh giỏi\")\n",
    "    elif 5 <= avg < 6.5: \n",
    "        print(\"Học sinh khá\")\n",
    "    else: \n",
    "        print(\"Học sinh trung bình\")"
   ]
  },
  {
   "cell_type": "code",
   "execution_count": 48,
   "id": "fabacca7",
   "metadata": {},
   "outputs": [
    {
     "name": "stdout",
     "output_type": "stream",
     "text": [
      "Average: 5.33\n",
      "Học sinh khá\n",
      "Average: 6.8\n",
      "Học sinh giỏi\n",
      "Average: 2.33\n",
      "Học sinh trung bình\n"
     ]
    }
   ],
   "source": [
    "classify(5, 8, 3)\n",
    "classify(8.4, 5, 7)\n",
    "classify(4, 1, 2)"
   ]
  },
  {
   "cell_type": "markdown",
   "id": "1eee19a7",
   "metadata": {},
   "source": [
    "### Thực hành: Viết hàm nhận vào một số nguyên và kiểm tra xem số đó có phải là số nguyên tố hay không.\n"
   ]
  },
  {
   "cell_type": "code",
   "execution_count": 15,
   "id": "d3c5d3a9",
   "metadata": {},
   "outputs": [],
   "source": [
    "def check_prime_number(number):\n",
    "    is_prime = True\n",
    "    \n",
    "    for i in range(2, number):\n",
    "        if number % i == 0:\n",
    "            print(f\"{number} is not a prime number\")\n",
    "            is_prime = False\n",
    "            break\n",
    "    if is_prime:\n",
    "        print(f\"{number} is a prime number\")\n",
    "        \n",
    "        "
   ]
  },
  {
   "cell_type": "code",
   "execution_count": 24,
   "id": "74986022",
   "metadata": {
    "scrolled": false
   },
   "outputs": [
    {
     "name": "stdout",
     "output_type": "stream",
     "text": [
      "7 is a prime number\n"
     ]
    }
   ],
   "source": [
    "check_prime_number(7)"
   ]
  },
  {
   "cell_type": "markdown",
   "id": "dea3b237",
   "metadata": {},
   "source": [
    "## Đối số có giá trị mặc định"
   ]
  },
  {
   "cell_type": "code",
   "execution_count": 25,
   "id": "8e871a22",
   "metadata": {},
   "outputs": [
    {
     "name": "stdout",
     "output_type": "stream",
     "text": [
      "Hello World. Hello World\n",
      "Hello World.\n"
     ]
    }
   ],
   "source": [
    "print(\"Hello World.\", \"Hello World\")\n",
    "print(\"Hello World.\")"
   ]
  },
  {
   "cell_type": "code",
   "execution_count": 27,
   "id": "bb44715a",
   "metadata": {},
   "outputs": [
    {
     "name": "stdout",
     "output_type": "stream",
     "text": [
      "My name is Duy\n",
      "My course is Java\n"
     ]
    }
   ],
   "source": [
    "def intro(name, course = \"Python Fundamental\"):\n",
    "    print(f\"My name is {name}\")\n",
    "    print(f\"My course is {course}\")\n",
    "\n",
    "intro(\"Duy\", \"Java\")"
   ]
  },
  {
   "cell_type": "markdown",
   "id": "4cb69485",
   "metadata": {},
   "source": [
    "## Giá trị trả về của hàm"
   ]
  },
  {
   "cell_type": "markdown",
   "id": "e4fac396",
   "metadata": {},
   "source": [
    "\n",
    "# return\n",
    "\n",
    "Cú pháp:\n",
    "\n",
    "`return <giá trị trả về>`\n",
    "\n",
    "##### Lưu ý: Sau khi thực hiện lệnh return, chương trình sẽ thoát khỏi hàm ngay lập tức (những lệnh sau đó không được thực hiện)\n",
    "\n",
    "Ví dụ:\n",
    "\n",
    "Hãy viết 1 hàm trả về giá trị trung bình của 2 số bất kỳ"
   ]
  },
  {
   "cell_type": "code",
   "execution_count": 28,
   "id": "028b09bc",
   "metadata": {},
   "outputs": [
    {
     "name": "stdout",
     "output_type": "stream",
     "text": [
      "1.5\n"
     ]
    }
   ],
   "source": [
    "def calc_avg(num1, num2):\n",
    "    return (num1 + num2) / 2\n",
    "\n",
    "r = calc_avg(1,2)\n",
    "print(r)"
   ]
  },
  {
   "cell_type": "code",
   "execution_count": 38,
   "id": "24592238",
   "metadata": {},
   "outputs": [
    {
     "name": "stdout",
     "output_type": "stream",
     "text": [
      "3\n"
     ]
    }
   ],
   "source": [
    "# Hàm tính chiều dài của chuỗi\n",
    "def lenght(my_str):\n",
    "    return len(my_str)\n",
    "\n",
    "result = lenght(\"bac\")\n",
    "print(result)\n",
    "    "
   ]
  },
  {
   "cell_type": "code",
   "execution_count": 48,
   "id": "56d947d8",
   "metadata": {},
   "outputs": [
    {
     "name": "stdout",
     "output_type": "stream",
     "text": [
      "9\n"
     ]
    }
   ],
   "source": [
    "# Hàm tính lũy thừa\n",
    "def calc_exponential(number):\n",
    "    return number ** 2\n",
    "\n",
    "result = calc_exponential(3)\n",
    "print(result)"
   ]
  },
  {
   "cell_type": "code",
   "execution_count": 50,
   "id": "e4cb29a4",
   "metadata": {},
   "outputs": [
    {
     "name": "stdout",
     "output_type": "stream",
     "text": [
      "120\n"
     ]
    }
   ],
   "source": [
    "# Hàm tính giai thừa\n",
    "def calc_factorial(number):\n",
    "    factorial = 1\n",
    "    for i in range(2, number + 1):\n",
    "        factorial *= i\n",
    "    return factorial\n",
    "\n",
    "result = calc_factorial(5)\n",
    "print(result)"
   ]
  },
  {
   "cell_type": "code",
   "execution_count": 34,
   "id": "0178d43e",
   "metadata": {},
   "outputs": [
    {
     "data": {
      "text/plain": [
       "False"
      ]
     },
     "execution_count": 34,
     "metadata": {},
     "output_type": "execute_result"
    }
   ],
   "source": [
    "# Hàm kiểm tra năm nhuận\n",
    "def is_leap_year(year):\n",
    "    if (year % 4 == 0 and year % 100 != 0) or (year % 400 == 0):\n",
    "        return True\n",
    "    else:\n",
    "        return False\n",
    "    \n",
    "is_leap_year(2013)"
   ]
  }
 ],
 "metadata": {
  "kernelspec": {
   "display_name": "Python 3 (ipykernel)",
   "language": "python",
   "name": "python3"
  },
  "language_info": {
   "codemirror_mode": {
    "name": "ipython",
    "version": 3
   },
   "file_extension": ".py",
   "mimetype": "text/x-python",
   "name": "python",
   "nbconvert_exporter": "python",
   "pygments_lexer": "ipython3",
   "version": "3.11.1"
  }
 },
 "nbformat": 4,
 "nbformat_minor": 5
}
